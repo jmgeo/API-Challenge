{
 "cells": [
  {
   "cell_type": "markdown",
   "metadata": {},
   "source": [
    "# WeatherPy\n",
    "----\n",
    "\n",
    "#### Note\n",
    "* Instructions have been included for each segment. You do not have to follow them exactly, but they are included to help you think through the steps."
   ]
  },
  {
   "cell_type": "code",
   "execution_count": 73,
   "metadata": {
    "scrolled": true
   },
   "outputs": [],
   "source": [
    "# Import Dependencies and Setup\n",
    "import matplotlib.pyplot as plt\n",
    "import pandas as pd\n",
    "import numpy as np\n",
    "import requests\n",
    "import gmaps\n",
    "import os\n",
    "import time\n",
    "import json\n",
    "import citipy\n",
    "import scipy.stats as st\n",
    "\n",
    "from scipy.stats import linregress\n",
    "from citipy import citipy\n",
    "\n",
    "# Import API key\n",
    "from api_keys import weather_api_key\n",
    "from api_keys import g_key\n",
    "\n",
    "#Output data as CSV to appropriate file\n",
    "output_csv = \"output_data/cities.csv\"\n",
    "\n",
    "#create a range for latitudes and longitudes\n",
    "lat_range = (-90, 90)\n",
    "lng_range = (-180, 180)"
   ]
  },
  {
   "cell_type": "markdown",
   "metadata": {},
   "source": [
    "## Generate Cities List"
   ]
  },
  {
   "cell_type": "code",
   "execution_count": 74,
   "metadata": {},
   "outputs": [
    {
     "name": "stdout",
     "output_type": "stream",
     "text": [
      "['batemans bay', 'belushya guba', 'cape town', 'saint-joseph', 'rikitea', 'butaritari', 'shingu', 'rasca', 'ushuaia', 'chake chake', 'bonavista', 'dunedin', 'faanui', 'bredasdorp', 'yulara', 'mogadishu', 'tuktoyaktuk', 'sakakah', 'port blair', 'mataura', 'laguna', 'verkhnyaya inta', 'tungkang', 'pilar', 'blagoyevo', 'new norfolk', 'ribeira grande', 'souillac', 'busselton', 'kalawit', 'qarqin', 'katsuura', 'north bend', 'kodiak', 'jamestown', 'honiara', 'bluff', 'bathsheba', 'punta arenas', 'upernavik', 'yellowknife', 'kismayo', 'georgetown', 'clyde river', 'lasa', 'vao', 'chokurdakh', 'attawapiskat', 'pisco', 'naze', 'lagoa', 'along', 'nyrob', 'columbus', 'vaini', 'tautira', 'matay', 'khatanga', 'novokayakent', 'nizwa', 'brae', 'camargo', 'puerto ayora', 'saint-philippe', 'great falls', 'castro', 'sirur', 'ponta do sol', 'aykhal', 'fianga', 'lompoc', 'suez', 'butembo', 'saskylakh', 'east london', 'nanortalik', 'viedma', 'nuuk', 'mahebourg', 'illoqqortoormiut', 'okhotsk', 'todos santos', 'nouadhibou', 'nikolskoye', 'cherskiy', 'seabra', 'college', 'chuy', 'wamba', 'langarud', 'tabiauea', 'barrow', 'katha', 'ozgon', 'ferrol', 'turan', 'hovd', 'buin', 'salalah', 'hobart', 'villa carlos paz', 'atuona', 'zhigansk', 'talnakh', 'walvis bay', 'hilo', 'lavrentiya', 'pevek', 'port alfred', 'salinopolis', 'devonport', 'taolanaro', 'hermanus', 'mount gambier', 'ulaangom', 'broome', 'tumannyy', 'shache', 'mount isa', 'mys shmidta', 'fasa', 'cabo san lucas', 'abu dhabi', 'vaitupu', 'hasaki', 'alice springs', 'yaan', 'tamandare', 'porto belo', 'rucheng', 'dingle', 'klaksvik', 'kargil', 'berestechko', 'jiazi', 'qaanaaq', 'havre-saint-pierre', 'mascote', 'boende', 'northam', 'chifeng', 'qaqortoq', 'languyan', 'lorengau', 'shahr-e babak', 'samarai', 'miguel calmon', 'aklavik', 'iqaluit', 'cartagena', 'ust-uda', 'omboue', 'sesheke', 'torbat-e jam', 'sentyabrskiy', 'mazyr', 'grand centre', 'kapaa', 'vestmanna', 'bubaque', 'chingirlau', 'nizhneyansk', 'oyon', 'tasiilaq', 'hobyo', 'tessalit', 'vengerovo', 'avera', 'teya', 'arraial do cabo', 'tungor', 'flinders', 'trelew', 'klecevce', 'cheuskiny', 'yunyang', 'verkhnetulomskiy', 'longyearbyen', 'plettenberg bay', 'hithadhoo', 'rungata', 'shimoda', 'provideniya', 'saleaula', 'yomitan', 'albany', 'dali', 'jalu', 'neiafu', 'torbay', 'cananeia', 'taoudenni', 'tilichiki', 'bad windsheim', 'kruisfontein', 'jarjis', 'te anau', 'saint george', 'tsihombe', 'airai', 'puerto escondido', 'ancud', 'tostamaa', 'rosarito', 'methoni', 'varkaus', 'brockville', 'carnarvon', 'westport', 'flin flon', 'mahaicony', 'dire', 'senador jose porfirio', 'khonuu', 'kenai', 'salto', 'santa lucia', 'beringovskiy', 'mar del plata', 'male', 'bambous virieux', 'codrington', 'slobidka', 'kaitangata', 'norman wells', 'porto velho', 'wangou', 'gravelbourg', 'palabuhanratu', 'touros', 'kamenskoye', 'abalak', 'port lincoln', 'san cristobal', 'atikokan', 'nemuro', 'antsohihy', 'kupang', 'constitucion', 'kloulklubed', 'mutsamudu', 'vestmannaeyjar', 'marcona', 'ampanihy', 'sobradinho', 'bethel', 'krasnoselkup', 'ahipara', 'vila velha', 'najran', 'narsaq', 'namatanai', 'pimentel', 'at-bashi', 'dikson', 'grand-santi', 'avarua', 'esperance', 'lolua', 'port keats', 'severo-kurilsk', 'dauphin', 'chekhov', 'makung', 'half moon bay', 'lebu', 'ammon', 'ardakan', 'thinadhoo', 'platteville', 'ribas do rio pardo', 'maryanovka', 'ahumada', 'margate', 'hammond', 'mahadday weyne', 'yanam', 'ugoofaaru', 'disraeli', 'lenger', 'itacare', 'kahului', 'chimbote', 'samalaeulu', 'norden', 'herat', 'beled', 'mehamn', 'grindavik', 'borovskoy', 'magdagachi', 'amderma', 'kilakarai', 'carutapera', 'iquitos', 'praia', 'maridi', 'kavieng', 'bahile', 'hambantota', 'lazaro cardenas', 'barentsburg', 'oussouye', 'coihaique', 'ellisras', 'prieska', 'namie', 'port elizabeth', 'miri', 'hualmay', 'guerrero negro', 'ixtapa', 'cidreira', 'satitoa', 'sibi', 'madras', 'louisbourg', 'gokak', 'namibe', 'grand river south east', 'moscow', 'karratha', 'iralaya', 'sao filipe', 'huicungo', 'zaranj', 'hamilton', 'maragogi', 'orlik', 'sosnogorsk', 'san jose', 'troyes', 'riyadh', 'ketchikan', 'karamea', 'srednekolymsk', 'kazachinskoye', 'nome', 'inuvik', 'nagahama', 'waingapu', 'elizabeth city', 'fulton', 'albemarle', 'swan river', 'saint-georges', 'grand gaube', 'uarini', 'victoria', 'faya', 'saldanha', 'ewa beach', 'arsenyev', 'kassala', 'thompson', 'champerico', 'takoradi', 'boditi', 'mildura', 'kailua', 'jahrom', 'griffith', 'yako', 'rawson', 'dinguiraye', 'maiduguri', 'wagar', 'mnogovershinnyy', 'hun', 'gambela', 'batagay-alyta', 'jamsa', 'pio ix', 'neuquen', 'tuburan', 'mitzic', 'xiongzhou', 'wahran', 'ostrovnoy', 'talcahuano', 'valenza', 'tiksi', 'mbandaka', 'fortuna', 'kaniama', 'balaipungut', 'solnechnyy', 'yuryev-polskiy', 'magomeni', 'bolungarvik', 'yenagoa', 'jujuy', 'jubayl', 'kon tum', 'voiron', 'fort nelson', 'kemijarvi', 'azul', 'maceio', 'zhangjiakou', 'prykolotne', 'gushikawa', 'tuatapere', 'kavaratti', 'vytegra', 'ust-kamchatsk', 'sur', 'nioro', 'maarianhamina', 'matai', 'olga', 'novobirilyussy', 'svetlyy', 'richards bay', 'ryotsu', 'payyannur', 'aginskoye', 'lufilufi', 'taft', 'pemangkat', 'santa fe', 'pitimbu', 'juifang', 'goundam', 'vardo', 'corinto', 'ayan', 'porto novo', 'ust-nera', 'mullaitivu', 'loukhi', 'talakan', 'uribia', 'basco', 'okitipupa', 'kiunga', 'sulangan', 'leningradskiy', 'piacabucu', 'sao jose da coroa grande', 'nyurba', 'kutum', 'shawville', 'banswara', 'anupgarh', 'bengkulu', 'itaituba', 'funadhoo', 'evensk', 'stokmarknes', 'ternate', 'guanica', 'inhambane', 'ngukurr', 'fevralsk', 'necochea', 'sibolga', 'grahamstown', 'la ronge', 'pochutla', 'pyshma', 'blytheville', 'buchanan', 'zhangzhou', 'chicama', 'pleszew', 'north myrtle beach', 'nouakchott', 'darhan', 'conde', 'idanre', 'wulanhaote', 'oron', 'kerema', 'doctor pedro p. pena', 'pandan', 'bairiki', 'savannakhet', 'veraval', 'rewari', 'beloha', 'colares', 'voineasa', 'menongue', 'shelburne', 'waipawa', 'makinsk', 'soyo', 'totskoye', 'komsomolskiy', 'bac lieu', 'meyungs', 'geraldton', 'pangnirtung', 'taltal', 'navalmoral de la mata', 'lata', 'kieta', 'sabratah', 'jasper', 'norton', 'palauig', 'high level', 'alugan', 'kalianget', 'cockburn town', 'benin', 'frasin', 'winnemucca', 'quatre cocos', 'alyangula', 'tianpeng', 'sorvag', 'rafai', 'goure', 'tual', 'mangrol', 'satao', 'ortakoy', 'sigli', 'gamba', 'dentsville', 'syracuse', 'sellye', 'katherine', 'vanimo', 'bouar', 'enshi', 'huayucachi', 'ilulissat', 'bacuit', 'gerash', 'san isidro', 'taixing', 'adrar', 'camalu', 'nokaneng', 'beidao', 'belyy yar', 'mao', 'yining', 'copiapo', 'nisia floresta', 'hofn', 'tiarei', 'sao felix do xingu', 'nsanje', 'malwan', 'bukama', 'tura', 'hihifo', 'beyneu', 'moreno', 'taiyuan', 'san patricio', 'obo', 'roald', 'urulga', 'callaway', 'halalo', 'karaul', 'bria', 'malindi', 'kasongo', 'coquimbo', 'sorland', 'karaton', 'chabahar', 'derzhavinsk', 'pitkyaranta', 'krasnotorka', 'sitka', 'zachagansk', 'ranong', 'umzimvubu', 'anchorage', 'atbasar', 'smithers', 'poum', 'visp', 'somotillo', 'yirol', 'nalut', 'raub', 'gravdal', 'mackenzie', 'novo aripuana', 'padang', 'aksehir', 'santa eulalia del rio', 'gander', 'denia', 'joshimath', 'mezen', 'ouadda', 'roma', 'mookane', 'peniche', 'sao gabriel da cachoeira', 'marystown', 'warrington', 'rorvik', 'soc trang', 'khani', 'nabire', 'udachnyy', 'itarema', 'bontang', 'canitas', 'bodden town', 'ondarroa', 'eirunepe', 'launceston', 'haines junction', 'sukhoverkovo', 'motala', 'asau', 'san jeronimo', 'finschhafen', 'saint anthony', 'bindura', 'chapais', 'pangai', 'sorong', 'mayo', 'verkhnevilyuysk', 'preeceville']\n"
     ]
    },
    {
     "data": {
      "text/plain": [
       "627"
      ]
     },
     "execution_count": 74,
     "metadata": {},
     "output_type": "execute_result"
    }
   ],
   "source": [
    "#first make lists to hold latitudes and longitudes. Also make a list to hold cities.\n",
    "lats_lngs = []\n",
    "cities = []\n",
    "\n",
    "#generate a random series of latitude and longitude coordinates. Use numpy random function.\n",
    "lats = np.random.uniform(lat_range[0], lat_range[1], size=1500)\n",
    "lngs = np.random.uniform(lng_range[0], lng_range[1], size=1500)\n",
    "\n",
    "#use the zip function to combine and place into the empty lats_lngs list\n",
    "lats_lngs = zip(lats, lngs)\n",
    "\n",
    "#use citipy to find the city closest to the random lat/lng combos.\n",
    "for lat_lng in lats_lngs:\n",
    "    city = citipy.nearest_city(lat_lng[0], lat_lng[1]).city_name\n",
    "    \n",
    "    #For each unique city, add it to the empty cities list\n",
    "    if city not in cities:\n",
    "        cities.append(city)\n",
    "\n",
    "#print the cities to confirm sample size is adequate\n",
    "print(cities)\n",
    "len(cities)\n"
   ]
  },
  {
   "cell_type": "markdown",
   "metadata": {},
   "source": [
    "### Perform API Calls\n",
    "* Perform a weather check on each city using a series of successive API calls.\n",
    "* Include a print log of each city as it'sbeing processed (with the city number and city name).\n"
   ]
  },
  {
   "cell_type": "code",
   "execution_count": 75,
   "metadata": {
    "scrolled": true
   },
   "outputs": [
    {
     "name": "stdout",
     "output_type": "stream",
     "text": [
      "Processing Data 1 of Set 1:batemans bay\n",
      "City not located. Moving on.\n",
      "Processing Data 2 of Set 1:cape town\n",
      "Processing Data 3 of Set 1:saint-joseph\n",
      "Processing Data 4 of Set 1:rikitea\n",
      "Processing Data 5 of Set 1:butaritari\n",
      "Processing Data 6 of Set 1:shingu\n",
      "City not located. Moving on.\n",
      "Processing Data 7 of Set 1:ushuaia\n",
      "Processing Data 8 of Set 1:chake chake\n",
      "Processing Data 9 of Set 1:bonavista\n",
      "Processing Data 10 of Set 1:dunedin\n",
      "Processing Data 11 of Set 1:faanui\n",
      "Processing Data 12 of Set 1:bredasdorp\n",
      "Processing Data 13 of Set 1:yulara\n",
      "Processing Data 14 of Set 1:mogadishu\n",
      "Processing Data 15 of Set 1:tuktoyaktuk\n",
      "Processing Data 16 of Set 1:sakakah\n",
      "Processing Data 17 of Set 1:port blair\n",
      "Processing Data 18 of Set 1:mataura\n",
      "Processing Data 19 of Set 1:laguna\n",
      "Processing Data 20 of Set 1:verkhnyaya inta\n",
      "City not located. Moving on.\n",
      "Processing Data 21 of Set 1:pilar\n",
      "Processing Data 22 of Set 1:blagoyevo\n",
      "Processing Data 23 of Set 1:new norfolk\n",
      "Processing Data 24 of Set 1:ribeira grande\n",
      "Processing Data 25 of Set 1:souillac\n",
      "Processing Data 26 of Set 1:busselton\n",
      "Processing Data 27 of Set 1:kalawit\n",
      "Processing Data 28 of Set 1:qarqin\n",
      "Processing Data 29 of Set 1:katsuura\n",
      "Processing Data 30 of Set 1:north bend\n",
      "Processing Data 31 of Set 1:kodiak\n",
      "Processing Data 32 of Set 1:jamestown\n",
      "Processing Data 33 of Set 1:honiara\n",
      "Processing Data 34 of Set 1:bluff\n",
      "Processing Data 35 of Set 1:bathsheba\n",
      "Processing Data 36 of Set 1:punta arenas\n",
      "Processing Data 37 of Set 1:upernavik\n",
      "Processing Data 38 of Set 1:yellowknife\n",
      "Processing Data 39 of Set 1:kismayo\n",
      "Processing Data 40 of Set 1:georgetown\n",
      "Processing Data 41 of Set 1:clyde river\n",
      "Processing Data 42 of Set 1:lasa\n",
      "Processing Data 43 of Set 1:vao\n",
      "Processing Data 44 of Set 1:chokurdakh\n",
      "City not located. Moving on.\n",
      "Processing Data 45 of Set 1:pisco\n",
      "Processing Data 46 of Set 1:naze\n",
      "Processing Data 47 of Set 1:lagoa\n",
      "Processing Data 48 of Set 1:along\n",
      "Processing Data 49 of Set 1:nyrob\n",
      "Processing Data 50 of Set 1:columbus\n",
      "Processing Data 0 of Set 2:vaini\n",
      "Processing Data 1 of Set 2:tautira\n",
      "Processing Data 2 of Set 2:matay\n",
      "Processing Data 3 of Set 2:khatanga\n",
      "Processing Data 4 of Set 2:novokayakent\n",
      "Processing Data 5 of Set 2:nizwa\n",
      "Processing Data 6 of Set 2:brae\n",
      "Processing Data 7 of Set 2:camargo\n",
      "Processing Data 8 of Set 2:puerto ayora\n",
      "Processing Data 9 of Set 2:saint-philippe\n",
      "Processing Data 10 of Set 2:great falls\n",
      "Processing Data 11 of Set 2:castro\n",
      "Processing Data 12 of Set 2:sirur\n",
      "Processing Data 13 of Set 2:ponta do sol\n",
      "Processing Data 14 of Set 2:aykhal\n",
      "City not located. Moving on.\n",
      "Processing Data 15 of Set 2:lompoc\n",
      "Processing Data 16 of Set 2:suez\n",
      "Processing Data 17 of Set 2:butembo\n",
      "Processing Data 18 of Set 2:saskylakh\n",
      "Processing Data 19 of Set 2:east london\n",
      "Processing Data 20 of Set 2:nanortalik\n",
      "Processing Data 21 of Set 2:viedma\n",
      "Processing Data 22 of Set 2:nuuk\n",
      "Processing Data 23 of Set 2:mahebourg\n",
      "City not located. Moving on.\n",
      "Processing Data 24 of Set 2:okhotsk\n",
      "Processing Data 25 of Set 2:todos santos\n",
      "Processing Data 26 of Set 2:nouadhibou\n",
      "Processing Data 27 of Set 2:nikolskoye\n",
      "Processing Data 28 of Set 2:cherskiy\n",
      "Processing Data 29 of Set 2:seabra\n",
      "Processing Data 30 of Set 2:college\n",
      "Processing Data 31 of Set 2:chuy\n",
      "Processing Data 32 of Set 2:wamba\n",
      "Processing Data 33 of Set 2:langarud\n",
      "City not located. Moving on.\n",
      "Processing Data 34 of Set 2:barrow\n",
      "City not located. Moving on.\n",
      "City not located. Moving on.\n",
      "Processing Data 35 of Set 2:ferrol\n",
      "Processing Data 36 of Set 2:turan\n",
      "Processing Data 37 of Set 2:hovd\n",
      "Processing Data 38 of Set 2:buin\n",
      "Processing Data 39 of Set 2:salalah\n",
      "Processing Data 40 of Set 2:hobart\n",
      "Processing Data 41 of Set 2:villa carlos paz\n",
      "Processing Data 42 of Set 2:atuona\n",
      "Processing Data 43 of Set 2:zhigansk\n",
      "Processing Data 44 of Set 2:talnakh\n",
      "Processing Data 45 of Set 2:walvis bay\n",
      "Processing Data 46 of Set 2:hilo\n",
      "Processing Data 47 of Set 2:lavrentiya\n",
      "Processing Data 48 of Set 2:pevek\n",
      "Processing Data 49 of Set 2:port alfred\n",
      "Processing Data 50 of Set 2:salinopolis\n",
      "Processing Data 0 of Set 3:devonport\n",
      "City not located. Moving on.\n",
      "Processing Data 1 of Set 3:hermanus\n",
      "Processing Data 2 of Set 3:mount gambier\n",
      "Processing Data 3 of Set 3:ulaangom\n",
      "Processing Data 4 of Set 3:broome\n",
      "City not located. Moving on.\n",
      "Processing Data 5 of Set 3:shache\n",
      "Processing Data 6 of Set 3:mount isa\n",
      "City not located. Moving on.\n",
      "Processing Data 7 of Set 3:fasa\n",
      "Processing Data 8 of Set 3:cabo san lucas\n",
      "Processing Data 9 of Set 3:abu dhabi\n",
      "City not located. Moving on.\n",
      "Processing Data 10 of Set 3:hasaki\n",
      "Processing Data 11 of Set 3:alice springs\n",
      "Processing Data 12 of Set 3:yaan\n",
      "Processing Data 13 of Set 3:tamandare\n",
      "Processing Data 14 of Set 3:porto belo\n",
      "Processing Data 15 of Set 3:rucheng\n",
      "Processing Data 16 of Set 3:dingle\n",
      "Processing Data 17 of Set 3:klaksvik\n",
      "Processing Data 18 of Set 3:kargil\n",
      "Processing Data 19 of Set 3:berestechko\n",
      "Processing Data 20 of Set 3:jiazi\n",
      "Processing Data 21 of Set 3:qaanaaq\n",
      "Processing Data 22 of Set 3:havre-saint-pierre\n",
      "Processing Data 23 of Set 3:mascote\n",
      "Processing Data 24 of Set 3:boende\n",
      "Processing Data 25 of Set 3:northam\n",
      "Processing Data 26 of Set 3:chifeng\n",
      "Processing Data 27 of Set 3:qaqortoq\n",
      "Processing Data 28 of Set 3:languyan\n",
      "Processing Data 29 of Set 3:lorengau\n",
      "Processing Data 30 of Set 3:shahr-e babak\n",
      "Processing Data 31 of Set 3:samarai\n",
      "Processing Data 32 of Set 3:miguel calmon\n",
      "Processing Data 33 of Set 3:aklavik\n",
      "Processing Data 34 of Set 3:iqaluit\n",
      "Processing Data 35 of Set 3:cartagena\n",
      "Processing Data 36 of Set 3:ust-uda\n",
      "Processing Data 37 of Set 3:omboue\n",
      "Processing Data 38 of Set 3:sesheke\n",
      "Processing Data 39 of Set 3:torbat-e jam\n",
      "City not located. Moving on.\n",
      "Processing Data 40 of Set 3:mazyr\n",
      "City not located. Moving on.\n",
      "Processing Data 41 of Set 3:kapaa\n",
      "Processing Data 42 of Set 3:vestmanna\n",
      "Processing Data 43 of Set 3:bubaque\n",
      "Processing Data 44 of Set 3:chingirlau\n",
      "City not located. Moving on.\n",
      "Processing Data 45 of Set 3:oyon\n",
      "Processing Data 46 of Set 3:tasiilaq\n",
      "Processing Data 47 of Set 3:hobyo\n",
      "Processing Data 48 of Set 3:tessalit\n",
      "Processing Data 49 of Set 3:vengerovo\n",
      "Processing Data 50 of Set 3:avera\n",
      "Processing Data 0 of Set 4:teya\n",
      "Processing Data 1 of Set 4:arraial do cabo\n",
      "Processing Data 2 of Set 4:tungor\n",
      "Processing Data 3 of Set 4:flinders\n",
      "Processing Data 4 of Set 4:trelew\n",
      "City not located. Moving on.\n",
      "City not located. Moving on.\n",
      "Processing Data 5 of Set 4:yunyang\n",
      "Processing Data 6 of Set 4:verkhnetulomskiy\n",
      "Processing Data 7 of Set 4:longyearbyen\n",
      "Processing Data 8 of Set 4:plettenberg bay\n",
      "Processing Data 9 of Set 4:hithadhoo\n",
      "City not located. Moving on.\n",
      "Processing Data 10 of Set 4:shimoda\n",
      "Processing Data 11 of Set 4:provideniya\n",
      "City not located. Moving on.\n",
      "City not located. Moving on.\n",
      "Processing Data 12 of Set 4:albany\n",
      "Processing Data 13 of Set 4:dali\n",
      "Processing Data 14 of Set 4:jalu\n",
      "Processing Data 15 of Set 4:neiafu\n",
      "Processing Data 16 of Set 4:torbay\n",
      "Processing Data 17 of Set 4:cananeia\n",
      "Processing Data 18 of Set 4:taoudenni\n",
      "Processing Data 19 of Set 4:tilichiki\n",
      "Processing Data 20 of Set 4:bad windsheim\n",
      "Processing Data 21 of Set 4:kruisfontein\n",
      "City not located. Moving on.\n",
      "Processing Data 22 of Set 4:te anau\n",
      "Processing Data 23 of Set 4:saint george\n",
      "City not located. Moving on.\n",
      "Processing Data 24 of Set 4:airai\n",
      "Processing Data 25 of Set 4:puerto escondido\n",
      "Processing Data 26 of Set 4:ancud\n",
      "City not located. Moving on.\n",
      "Processing Data 27 of Set 4:rosarito\n",
      "Processing Data 28 of Set 4:methoni\n",
      "Processing Data 29 of Set 4:varkaus\n",
      "Processing Data 30 of Set 4:brockville\n",
      "Processing Data 31 of Set 4:carnarvon\n",
      "Processing Data 32 of Set 4:westport\n",
      "Processing Data 33 of Set 4:flin flon\n",
      "City not located. Moving on.\n",
      "Processing Data 34 of Set 4:dire\n",
      "Processing Data 35 of Set 4:senador jose porfirio\n",
      "City not located. Moving on.\n",
      "Processing Data 36 of Set 4:kenai\n",
      "Processing Data 37 of Set 4:salto\n",
      "Processing Data 38 of Set 4:santa lucia\n",
      "Processing Data 39 of Set 4:beringovskiy\n",
      "Processing Data 40 of Set 4:mar del plata\n",
      "Processing Data 41 of Set 4:male\n",
      "Processing Data 42 of Set 4:bambous virieux\n",
      "Processing Data 43 of Set 4:codrington\n",
      "Processing Data 44 of Set 4:slobidka\n",
      "Processing Data 45 of Set 4:kaitangata\n",
      "Processing Data 46 of Set 4:norman wells\n",
      "Processing Data 47 of Set 4:porto velho\n",
      "Processing Data 48 of Set 4:wangou\n"
     ]
    },
    {
     "name": "stdout",
     "output_type": "stream",
     "text": [
      "Processing Data 49 of Set 4:gravelbourg\n",
      "City not located. Moving on.\n",
      "Processing Data 50 of Set 4:touros\n",
      "City not located. Moving on.\n",
      "Processing Data 0 of Set 5:abalak\n",
      "Processing Data 1 of Set 5:port lincoln\n",
      "Processing Data 2 of Set 5:san cristobal\n",
      "Processing Data 3 of Set 5:atikokan\n",
      "Processing Data 4 of Set 5:nemuro\n",
      "Processing Data 5 of Set 5:antsohihy\n",
      "Processing Data 6 of Set 5:kupang\n",
      "Processing Data 7 of Set 5:constitucion\n",
      "Processing Data 8 of Set 5:kloulklubed\n",
      "City not located. Moving on.\n",
      "Processing Data 9 of Set 5:vestmannaeyjar\n",
      "City not located. Moving on.\n",
      "Processing Data 10 of Set 5:ampanihy\n",
      "Processing Data 11 of Set 5:sobradinho\n",
      "Processing Data 12 of Set 5:bethel\n",
      "Processing Data 13 of Set 5:krasnoselkup\n",
      "Processing Data 14 of Set 5:ahipara\n",
      "Processing Data 15 of Set 5:vila velha\n",
      "Processing Data 16 of Set 5:najran\n",
      "Processing Data 17 of Set 5:narsaq\n",
      "Processing Data 18 of Set 5:namatanai\n",
      "Processing Data 19 of Set 5:pimentel\n",
      "Processing Data 20 of Set 5:at-bashi\n",
      "Processing Data 21 of Set 5:dikson\n",
      "Processing Data 22 of Set 5:grand-santi\n",
      "Processing Data 23 of Set 5:avarua\n",
      "Processing Data 24 of Set 5:esperance\n",
      "City not located. Moving on.\n",
      "Processing Data 25 of Set 5:port keats\n",
      "Processing Data 26 of Set 5:severo-kurilsk\n",
      "Processing Data 27 of Set 5:dauphin\n",
      "Processing Data 28 of Set 5:chekhov\n",
      "City not located. Moving on.\n",
      "Processing Data 29 of Set 5:half moon bay\n",
      "Processing Data 30 of Set 5:lebu\n",
      "Processing Data 31 of Set 5:ammon\n",
      "Processing Data 32 of Set 5:ardakan\n",
      "Processing Data 33 of Set 5:thinadhoo\n",
      "Processing Data 34 of Set 5:platteville\n",
      "Processing Data 35 of Set 5:ribas do rio pardo\n",
      "City not located. Moving on.\n",
      "City not located. Moving on.\n",
      "Processing Data 36 of Set 5:margate\n",
      "Processing Data 37 of Set 5:hammond\n",
      "City not located. Moving on.\n",
      "Processing Data 38 of Set 5:yanam\n",
      "Processing Data 39 of Set 5:ugoofaaru\n",
      "Processing Data 40 of Set 5:disraeli\n",
      "Processing Data 41 of Set 5:lenger\n",
      "Processing Data 42 of Set 5:itacare\n",
      "Processing Data 43 of Set 5:kahului\n",
      "Processing Data 44 of Set 5:chimbote\n",
      "City not located. Moving on.\n",
      "Processing Data 45 of Set 5:norden\n",
      "Processing Data 46 of Set 5:herat\n",
      "Processing Data 47 of Set 5:beled\n",
      "Processing Data 48 of Set 5:mehamn\n",
      "Processing Data 49 of Set 5:grindavik\n",
      "Processing Data 50 of Set 5:borovskoy\n",
      "Processing Data 0 of Set 6:magdagachi\n",
      "City not located. Moving on.\n",
      "Processing Data 1 of Set 6:kilakarai\n",
      "Processing Data 2 of Set 6:carutapera\n",
      "Processing Data 3 of Set 6:iquitos\n",
      "Processing Data 4 of Set 6:praia\n",
      "Processing Data 5 of Set 6:maridi\n",
      "Processing Data 6 of Set 6:kavieng\n",
      "Processing Data 7 of Set 6:bahile\n",
      "Processing Data 8 of Set 6:hambantota\n",
      "Processing Data 9 of Set 6:lazaro cardenas\n",
      "City not located. Moving on.\n",
      "Processing Data 10 of Set 6:oussouye\n",
      "Processing Data 11 of Set 6:coihaique\n",
      "Processing Data 12 of Set 6:ellisras\n",
      "Processing Data 13 of Set 6:prieska\n",
      "Processing Data 14 of Set 6:namie\n",
      "Processing Data 15 of Set 6:port elizabeth\n",
      "Processing Data 16 of Set 6:miri\n",
      "Processing Data 17 of Set 6:hualmay\n",
      "Processing Data 18 of Set 6:guerrero negro\n",
      "Processing Data 19 of Set 6:ixtapa\n",
      "Processing Data 20 of Set 6:cidreira\n",
      "City not located. Moving on.\n",
      "Processing Data 21 of Set 6:sibi\n",
      "Processing Data 22 of Set 6:madras\n",
      "City not located. Moving on.\n",
      "Processing Data 23 of Set 6:gokak\n",
      "Processing Data 24 of Set 6:namibe\n",
      "City not located. Moving on.\n",
      "Processing Data 25 of Set 6:moscow\n",
      "Processing Data 26 of Set 6:karratha\n",
      "Processing Data 27 of Set 6:iralaya\n",
      "Processing Data 28 of Set 6:sao filipe\n",
      "Processing Data 29 of Set 6:huicungo\n",
      "Processing Data 30 of Set 6:zaranj\n",
      "Processing Data 31 of Set 6:hamilton\n",
      "Processing Data 32 of Set 6:maragogi\n",
      "Processing Data 33 of Set 6:orlik\n",
      "Processing Data 34 of Set 6:sosnogorsk\n",
      "Processing Data 35 of Set 6:san jose\n",
      "Processing Data 36 of Set 6:troyes\n",
      "Processing Data 37 of Set 6:riyadh\n",
      "Processing Data 38 of Set 6:ketchikan\n",
      "City not located. Moving on.\n",
      "Processing Data 39 of Set 6:srednekolymsk\n",
      "Processing Data 40 of Set 6:kazachinskoye\n",
      "Processing Data 41 of Set 6:nome\n",
      "Processing Data 42 of Set 6:inuvik\n",
      "Processing Data 43 of Set 6:nagahama\n",
      "Processing Data 44 of Set 6:waingapu\n",
      "Processing Data 45 of Set 6:elizabeth city\n",
      "Processing Data 46 of Set 6:fulton\n",
      "Processing Data 47 of Set 6:albemarle\n",
      "Processing Data 48 of Set 6:swan river\n",
      "Processing Data 49 of Set 6:saint-georges\n",
      "Processing Data 50 of Set 6:grand gaube\n",
      "Processing Data 0 of Set 7:uarini\n",
      "Processing Data 1 of Set 7:victoria\n",
      "Processing Data 2 of Set 7:faya\n",
      "Processing Data 3 of Set 7:saldanha\n",
      "Processing Data 4 of Set 7:ewa beach\n",
      "Processing Data 5 of Set 7:arsenyev\n",
      "Processing Data 6 of Set 7:kassala\n",
      "Processing Data 7 of Set 7:thompson\n",
      "Processing Data 8 of Set 7:champerico\n",
      "Processing Data 9 of Set 7:takoradi\n",
      "Processing Data 10 of Set 7:boditi\n",
      "Processing Data 11 of Set 7:mildura\n",
      "Processing Data 12 of Set 7:kailua\n",
      "City not located. Moving on.\n",
      "Processing Data 13 of Set 7:griffith\n",
      "Processing Data 14 of Set 7:yako\n",
      "Processing Data 15 of Set 7:rawson\n",
      "Processing Data 16 of Set 7:dinguiraye\n",
      "Processing Data 17 of Set 7:maiduguri\n",
      "Processing Data 18 of Set 7:wagar\n",
      "Processing Data 19 of Set 7:mnogovershinnyy\n",
      "Processing Data 20 of Set 7:hun\n",
      "Processing Data 21 of Set 7:gambela\n",
      "Processing Data 22 of Set 7:batagay-alyta\n",
      "Processing Data 23 of Set 7:jamsa\n",
      "Processing Data 24 of Set 7:pio ix\n",
      "Processing Data 25 of Set 7:neuquen\n",
      "Processing Data 26 of Set 7:tuburan\n",
      "Processing Data 27 of Set 7:mitzic\n",
      "Processing Data 28 of Set 7:xiongzhou\n",
      "City not located. Moving on.\n",
      "Processing Data 29 of Set 7:ostrovnoy\n",
      "Processing Data 30 of Set 7:talcahuano\n",
      "Processing Data 31 of Set 7:valenza\n",
      "Processing Data 32 of Set 7:tiksi\n",
      "Processing Data 33 of Set 7:mbandaka\n",
      "Processing Data 34 of Set 7:fortuna\n",
      "Processing Data 35 of Set 7:kaniama\n",
      "Processing Data 36 of Set 7:balaipungut\n",
      "Processing Data 37 of Set 7:solnechnyy\n",
      "Processing Data 38 of Set 7:yuryev-polskiy\n",
      "Processing Data 39 of Set 7:magomeni\n",
      "City not located. Moving on.\n",
      "Processing Data 40 of Set 7:yenagoa\n",
      "City not located. Moving on.\n",
      "City not located. Moving on.\n",
      "Processing Data 41 of Set 7:kon tum\n",
      "Processing Data 42 of Set 7:voiron\n",
      "Processing Data 43 of Set 7:fort nelson\n",
      "Processing Data 44 of Set 7:kemijarvi\n",
      "Processing Data 45 of Set 7:azul\n",
      "Processing Data 46 of Set 7:maceio\n",
      "Processing Data 47 of Set 7:zhangjiakou\n",
      "Processing Data 48 of Set 7:prykolotne\n",
      "Processing Data 49 of Set 7:gushikawa\n",
      "Processing Data 50 of Set 7:tuatapere\n",
      "Processing Data 0 of Set 8:kavaratti\n",
      "Processing Data 1 of Set 8:vytegra\n",
      "City not located. Moving on.\n",
      "Processing Data 2 of Set 8:sur\n",
      "Processing Data 3 of Set 8:nioro\n",
      "Processing Data 4 of Set 8:maarianhamina\n",
      "Processing Data 5 of Set 8:matai\n",
      "Processing Data 6 of Set 8:olga\n",
      "Processing Data 7 of Set 8:novobirilyussy\n",
      "Processing Data 8 of Set 8:svetlyy\n",
      "Processing Data 9 of Set 8:richards bay\n",
      "Processing Data 10 of Set 8:ryotsu\n",
      "Processing Data 11 of Set 8:payyannur\n",
      "Processing Data 12 of Set 8:aginskoye\n",
      "Processing Data 13 of Set 8:lufilufi\n",
      "Processing Data 14 of Set 8:taft\n",
      "Processing Data 15 of Set 8:pemangkat\n",
      "Processing Data 16 of Set 8:santa fe\n",
      "Processing Data 17 of Set 8:pitimbu\n",
      "City not located. Moving on.\n",
      "Processing Data 18 of Set 8:goundam\n",
      "Processing Data 19 of Set 8:vardo\n",
      "Processing Data 20 of Set 8:corinto\n",
      "Processing Data 21 of Set 8:ayan\n",
      "Processing Data 22 of Set 8:porto novo\n",
      "Processing Data 23 of Set 8:ust-nera\n",
      "City not located. Moving on.\n",
      "Processing Data 24 of Set 8:loukhi\n",
      "Processing Data 25 of Set 8:talakan\n",
      "Processing Data 26 of Set 8:uribia\n",
      "Processing Data 27 of Set 8:basco\n",
      "Processing Data 28 of Set 8:okitipupa\n",
      "Processing Data 29 of Set 8:kiunga\n",
      "Processing Data 30 of Set 8:sulangan\n",
      "Processing Data 31 of Set 8:leningradskiy\n",
      "Processing Data 32 of Set 8:piacabucu\n",
      "Processing Data 33 of Set 8:sao jose da coroa grande\n",
      "Processing Data 34 of Set 8:nyurba\n",
      "Processing Data 35 of Set 8:kutum\n",
      "Processing Data 36 of Set 8:shawville\n",
      "Processing Data 37 of Set 8:banswara\n",
      "Processing Data 38 of Set 8:anupgarh\n",
      "Processing Data 39 of Set 8:bengkulu\n",
      "Processing Data 40 of Set 8:itaituba\n",
      "Processing Data 41 of Set 8:funadhoo\n",
      "Processing Data 42 of Set 8:evensk\n",
      "Processing Data 43 of Set 8:stokmarknes\n",
      "Processing Data 44 of Set 8:ternate\n",
      "Processing Data 45 of Set 8:guanica\n",
      "Processing Data 46 of Set 8:inhambane\n",
      "City not located. Moving on.\n",
      "City not located. Moving on.\n"
     ]
    },
    {
     "name": "stdout",
     "output_type": "stream",
     "text": [
      "Processing Data 47 of Set 8:necochea\n",
      "Processing Data 48 of Set 8:sibolga\n",
      "Processing Data 49 of Set 8:grahamstown\n",
      "Processing Data 50 of Set 8:la ronge\n",
      "Processing Data 0 of Set 9:pochutla\n",
      "Processing Data 1 of Set 9:pyshma\n",
      "Processing Data 2 of Set 9:blytheville\n",
      "Processing Data 3 of Set 9:buchanan\n",
      "Processing Data 4 of Set 9:zhangzhou\n",
      "Processing Data 5 of Set 9:chicama\n",
      "Processing Data 6 of Set 9:pleszew\n",
      "Processing Data 7 of Set 9:north myrtle beach\n",
      "Processing Data 8 of Set 9:nouakchott\n",
      "Processing Data 9 of Set 9:darhan\n",
      "Processing Data 10 of Set 9:conde\n",
      "Processing Data 11 of Set 9:idanre\n",
      "City not located. Moving on.\n",
      "Processing Data 12 of Set 9:oron\n",
      "Processing Data 13 of Set 9:kerema\n",
      "City not located. Moving on.\n",
      "Processing Data 14 of Set 9:pandan\n",
      "Processing Data 15 of Set 9:bairiki\n",
      "Processing Data 16 of Set 9:savannakhet\n",
      "Processing Data 17 of Set 9:veraval\n",
      "Processing Data 18 of Set 9:rewari\n",
      "Processing Data 19 of Set 9:beloha\n",
      "Processing Data 20 of Set 9:colares\n",
      "Processing Data 21 of Set 9:voineasa\n",
      "Processing Data 22 of Set 9:menongue\n",
      "Processing Data 23 of Set 9:shelburne\n",
      "Processing Data 24 of Set 9:waipawa\n",
      "Processing Data 25 of Set 9:makinsk\n",
      "Processing Data 26 of Set 9:soyo\n",
      "Processing Data 27 of Set 9:totskoye\n",
      "Processing Data 28 of Set 9:komsomolskiy\n",
      "Processing Data 29 of Set 9:bac lieu\n",
      "City not located. Moving on.\n",
      "Processing Data 30 of Set 9:geraldton\n",
      "Processing Data 31 of Set 9:pangnirtung\n",
      "Processing Data 32 of Set 9:taltal\n",
      "Processing Data 33 of Set 9:navalmoral de la mata\n",
      "Processing Data 34 of Set 9:lata\n",
      "Processing Data 35 of Set 9:kieta\n",
      "Processing Data 36 of Set 9:sabratah\n",
      "Processing Data 37 of Set 9:jasper\n",
      "Processing Data 38 of Set 9:norton\n",
      "Processing Data 39 of Set 9:palauig\n",
      "Processing Data 40 of Set 9:high level\n",
      "Processing Data 41 of Set 9:alugan\n",
      "Processing Data 42 of Set 9:kalianget\n",
      "Processing Data 43 of Set 9:cockburn town\n",
      "Processing Data 44 of Set 9:benin\n",
      "Processing Data 45 of Set 9:frasin\n",
      "Processing Data 46 of Set 9:winnemucca\n",
      "Processing Data 47 of Set 9:quatre cocos\n",
      "Processing Data 48 of Set 9:alyangula\n",
      "Processing Data 49 of Set 9:tianpeng\n",
      "City not located. Moving on.\n",
      "Processing Data 50 of Set 9:rafai\n",
      "Processing Data 0 of Set 10:goure\n",
      "Processing Data 1 of Set 10:tual\n",
      "Processing Data 2 of Set 10:mangrol\n",
      "Processing Data 3 of Set 10:satao\n",
      "Processing Data 4 of Set 10:ortakoy\n",
      "Processing Data 5 of Set 10:sigli\n",
      "Processing Data 6 of Set 10:gamba\n",
      "Processing Data 7 of Set 10:dentsville\n",
      "Processing Data 8 of Set 10:syracuse\n",
      "Processing Data 9 of Set 10:sellye\n",
      "Processing Data 10 of Set 10:katherine\n",
      "Processing Data 11 of Set 10:vanimo\n",
      "Processing Data 12 of Set 10:bouar\n",
      "Processing Data 13 of Set 10:enshi\n",
      "Processing Data 14 of Set 10:huayucachi\n",
      "Processing Data 15 of Set 10:ilulissat\n",
      "City not located. Moving on.\n",
      "Processing Data 16 of Set 10:gerash\n",
      "Processing Data 17 of Set 10:san isidro\n",
      "Processing Data 18 of Set 10:taixing\n",
      "Processing Data 19 of Set 10:adrar\n",
      "Processing Data 20 of Set 10:camalu\n",
      "Processing Data 21 of Set 10:nokaneng\n",
      "Processing Data 22 of Set 10:beidao\n",
      "Processing Data 23 of Set 10:belyy yar\n",
      "Processing Data 24 of Set 10:mao\n",
      "Processing Data 25 of Set 10:yining\n",
      "Processing Data 26 of Set 10:copiapo\n",
      "Processing Data 27 of Set 10:nisia floresta\n",
      "Processing Data 28 of Set 10:hofn\n",
      "Processing Data 29 of Set 10:tiarei\n",
      "Processing Data 30 of Set 10:sao felix do xingu\n",
      "Processing Data 31 of Set 10:nsanje\n",
      "City not located. Moving on.\n",
      "Processing Data 32 of Set 10:bukama\n",
      "Processing Data 33 of Set 10:tura\n",
      "City not located. Moving on.\n",
      "Processing Data 34 of Set 10:beyneu\n",
      "Processing Data 35 of Set 10:moreno\n",
      "Processing Data 36 of Set 10:taiyuan\n",
      "Processing Data 37 of Set 10:san patricio\n",
      "Processing Data 38 of Set 10:obo\n",
      "Processing Data 39 of Set 10:roald\n",
      "City not located. Moving on.\n",
      "Processing Data 40 of Set 10:callaway\n",
      "City not located. Moving on.\n",
      "City not located. Moving on.\n",
      "Processing Data 41 of Set 10:bria\n",
      "Processing Data 42 of Set 10:malindi\n",
      "Processing Data 43 of Set 10:kasongo\n",
      "Processing Data 44 of Set 10:coquimbo\n",
      "Processing Data 45 of Set 10:sorland\n",
      "Processing Data 46 of Set 10:karaton\n",
      "Processing Data 47 of Set 10:chabahar\n",
      "Processing Data 48 of Set 10:derzhavinsk\n",
      "Processing Data 49 of Set 10:pitkyaranta\n",
      "Processing Data 50 of Set 10:krasnotorka\n",
      "Processing Data 0 of Set 11:sitka\n",
      "City not located. Moving on.\n",
      "Processing Data 1 of Set 11:ranong\n",
      "City not located. Moving on.\n",
      "Processing Data 2 of Set 11:anchorage\n",
      "Processing Data 3 of Set 11:atbasar\n",
      "Processing Data 4 of Set 11:smithers\n",
      "Processing Data 5 of Set 11:poum\n",
      "Processing Data 6 of Set 11:visp\n",
      "Processing Data 7 of Set 11:somotillo\n",
      "City not located. Moving on.\n",
      "Processing Data 8 of Set 11:nalut\n",
      "Processing Data 9 of Set 11:raub\n",
      "Processing Data 10 of Set 11:gravdal\n",
      "Processing Data 11 of Set 11:mackenzie\n",
      "Processing Data 12 of Set 11:novo aripuana\n",
      "Processing Data 13 of Set 11:padang\n",
      "Processing Data 14 of Set 11:aksehir\n",
      "City not located. Moving on.\n",
      "Processing Data 15 of Set 11:gander\n",
      "Processing Data 16 of Set 11:denia\n",
      "Processing Data 17 of Set 11:joshimath\n",
      "Processing Data 18 of Set 11:mezen\n",
      "Processing Data 19 of Set 11:ouadda\n",
      "Processing Data 20 of Set 11:roma\n",
      "Processing Data 21 of Set 11:mookane\n",
      "Processing Data 22 of Set 11:peniche\n",
      "Processing Data 23 of Set 11:sao gabriel da cachoeira\n",
      "Processing Data 24 of Set 11:marystown\n",
      "Processing Data 25 of Set 11:warrington\n",
      "Processing Data 26 of Set 11:rorvik\n",
      "Processing Data 27 of Set 11:soc trang\n",
      "Processing Data 28 of Set 11:khani\n",
      "Processing Data 29 of Set 11:nabire\n",
      "Processing Data 30 of Set 11:udachnyy\n",
      "Processing Data 31 of Set 11:itarema\n",
      "Processing Data 32 of Set 11:bontang\n",
      "City not located. Moving on.\n",
      "Processing Data 33 of Set 11:bodden town\n",
      "Processing Data 34 of Set 11:ondarroa\n",
      "Processing Data 35 of Set 11:eirunepe\n",
      "Processing Data 36 of Set 11:launceston\n",
      "Processing Data 37 of Set 11:haines junction\n",
      "City not located. Moving on.\n",
      "Processing Data 38 of Set 11:motala\n",
      "Processing Data 39 of Set 11:asau\n",
      "Processing Data 40 of Set 11:san jeronimo\n",
      "Processing Data 41 of Set 11:finschhafen\n",
      "Processing Data 42 of Set 11:saint anthony\n",
      "Processing Data 43 of Set 11:bindura\n",
      "Processing Data 44 of Set 11:chapais\n",
      "Processing Data 45 of Set 11:pangai\n",
      "Processing Data 46 of Set 11:sorong\n",
      "Processing Data 47 of Set 11:mayo\n",
      "Processing Data 48 of Set 11:verkhnevilyuysk\n",
      "Processing Data 49 of Set 11:preeceville\n",
      "I'm Finished.\n"
     ]
    }
   ],
   "source": [
    "#first create the necessary lists and counters to perform all the requested operations\n",
    "city_list = []\n",
    "cloudiness_list = []\n",
    "country_list = []\n",
    "date_list = []\n",
    "humidity_list = []\n",
    "lats_list = []\n",
    "lngs_list = []\n",
    "temp_max_list = []\n",
    "windspeed_list = []\n",
    "index_counter = 0\n",
    "set_counter = 1\n",
    "\n",
    "#perform API Calls\n",
    "##point to the url needed for the data and set the units for the output to imperial\n",
    "base_url = \"http://api.openweathermap.org/data/2.5/weather?\"\n",
    "units = \"imperial\"\n",
    "\n",
    "#set the url for the query\n",
    "query_url = f\"{base_url}appid={weather_api_key}&units={units}&q=\"\n",
    "\n",
    "#construct a for loop that matches city names with the city_list.\n",
    "##Enumerate is the key here. Documentation: https://docs.python.org/3/library/functions.html?highlight=enumerate#enumerate\n",
    "for index, city in enumerate(cities, start = 1):\n",
    "    try:\n",
    "        response = requests.get(query_url + city).json()\n",
    "        #now insert all the names of the lists we made and append to them\n",
    "        city_list.append(response[\"name\"])\n",
    "        cloudiness_list.append(response[\"clouds\"][\"all\"])\n",
    "        country_list.append(response[\"sys\"][\"country\"])\n",
    "        date_list.append(response[\"dt\"])\n",
    "        humidity_list.append(response[\"main\"][\"humidity\"])\n",
    "        lats_list.append(response[\"coord\"][\"lat\"])\n",
    "        lngs_list.append(response[\"coord\"][\"lon\"])\n",
    "        temp_max_list.append(response[\"main\"][\"temp_max\"])\n",
    "        windspeed_list.append(response[\"wind\"][\"speed\"])\n",
    "        \n",
    "        #use if and else statements pointing to the counters to loop through\n",
    "        if index_counter > 49:\n",
    "            index_counter = 0\n",
    "            set_counter = set_counter + 1\n",
    "            \n",
    "        else:\n",
    "            index_counter = index_counter + 1\n",
    "        \n",
    "        #return the results with an f string\n",
    "        print(f\"Processing Data {index_counter} of Set {set_counter}:{city}\")\n",
    "        \n",
    "    #handle the errors with an exception\n",
    "    except(KeyError, IndexError):\n",
    "        print(\"City not located. Moving on.\")\n",
    "print(\"I'm Finished.\")"
   ]
  },
  {
   "cell_type": "markdown",
   "metadata": {},
   "source": [
    "### Convert Raw Data to DataFrame\n",
    "* Export the city data into a .csv.\n",
    "* Display the DataFrame"
   ]
  },
  {
   "cell_type": "code",
   "execution_count": 76,
   "metadata": {},
   "outputs": [
    {
     "data": {
      "text/html": [
       "<div>\n",
       "<style scoped>\n",
       "    .dataframe tbody tr th:only-of-type {\n",
       "        vertical-align: middle;\n",
       "    }\n",
       "\n",
       "    .dataframe tbody tr th {\n",
       "        vertical-align: top;\n",
       "    }\n",
       "\n",
       "    .dataframe thead th {\n",
       "        text-align: right;\n",
       "    }\n",
       "</style>\n",
       "<table border=\"1\" class=\"dataframe\">\n",
       "  <thead>\n",
       "    <tr style=\"text-align: right;\">\n",
       "      <th></th>\n",
       "      <th>City</th>\n",
       "      <th>Country</th>\n",
       "      <th>Latitude</th>\n",
       "      <th>Longitude</th>\n",
       "      <th>Maximum Temperature</th>\n",
       "      <th>Humidity</th>\n",
       "      <th>Clouds</th>\n",
       "      <th>Wind Speed</th>\n",
       "      <th>Date</th>\n",
       "    </tr>\n",
       "  </thead>\n",
       "  <tbody>\n",
       "    <tr>\n",
       "      <th>0</th>\n",
       "      <td>Batemans Bay</td>\n",
       "      <td>AU</td>\n",
       "      <td>-35.7167</td>\n",
       "      <td>150.1833</td>\n",
       "      <td>53.20</td>\n",
       "      <td>79</td>\n",
       "      <td>100</td>\n",
       "      <td>3.83</td>\n",
       "      <td>1622656296</td>\n",
       "    </tr>\n",
       "    <tr>\n",
       "      <th>1</th>\n",
       "      <td>Cape Town</td>\n",
       "      <td>ZA</td>\n",
       "      <td>-33.9258</td>\n",
       "      <td>18.4232</td>\n",
       "      <td>62.11</td>\n",
       "      <td>80</td>\n",
       "      <td>20</td>\n",
       "      <td>4.00</td>\n",
       "      <td>1622656082</td>\n",
       "    </tr>\n",
       "    <tr>\n",
       "      <th>2</th>\n",
       "      <td>Saint-Joseph</td>\n",
       "      <td>RE</td>\n",
       "      <td>-21.3667</td>\n",
       "      <td>55.6167</td>\n",
       "      <td>75.58</td>\n",
       "      <td>79</td>\n",
       "      <td>95</td>\n",
       "      <td>14.41</td>\n",
       "      <td>1622656298</td>\n",
       "    </tr>\n",
       "    <tr>\n",
       "      <th>3</th>\n",
       "      <td>Rikitea</td>\n",
       "      <td>PF</td>\n",
       "      <td>-23.1203</td>\n",
       "      <td>-134.9692</td>\n",
       "      <td>71.87</td>\n",
       "      <td>60</td>\n",
       "      <td>98</td>\n",
       "      <td>17.29</td>\n",
       "      <td>1622656277</td>\n",
       "    </tr>\n",
       "    <tr>\n",
       "      <th>4</th>\n",
       "      <td>Butaritari</td>\n",
       "      <td>KI</td>\n",
       "      <td>3.0707</td>\n",
       "      <td>172.7902</td>\n",
       "      <td>82.65</td>\n",
       "      <td>79</td>\n",
       "      <td>100</td>\n",
       "      <td>15.59</td>\n",
       "      <td>1622656299</td>\n",
       "    </tr>\n",
       "  </tbody>\n",
       "</table>\n",
       "</div>"
      ],
      "text/plain": [
       "           City Country  Latitude  Longitude  Maximum Temperature  Humidity  \\\n",
       "0  Batemans Bay      AU  -35.7167   150.1833                53.20        79   \n",
       "1     Cape Town      ZA  -33.9258    18.4232                62.11        80   \n",
       "2  Saint-Joseph      RE  -21.3667    55.6167                75.58        79   \n",
       "3       Rikitea      PF  -23.1203  -134.9692                71.87        60   \n",
       "4    Butaritari      KI    3.0707   172.7902                82.65        79   \n",
       "\n",
       "   Clouds  Wind Speed        Date  \n",
       "0     100        3.83  1622656296  \n",
       "1      20        4.00  1622656082  \n",
       "2      95       14.41  1622656298  \n",
       "3      98       17.29  1622656277  \n",
       "4     100       15.59  1622656299  "
      ]
     },
     "execution_count": 76,
     "metadata": {},
     "output_type": "execute_result"
    }
   ],
   "source": [
    "#editing code for another push. had an error.\n",
    "##create the dataframe with pd.DataFrame\n",
    "weather_df = pd.DataFrame({\n",
    "    \"City\" : city_list,\n",
    "    \"Country\" : country_list,\n",
    "    \"Latitude\" : lats_list,\n",
    "    \"Longitude\" : lngs_list,\n",
    "    \"Maximum Temperature\" : temp_max_list,\n",
    "    \"Humidity\" : humidity_list,\n",
    "    \"Clouds\" : cloudiness_list,\n",
    "    \"Wind Speed\" : windspeed_list,\n",
    "    \"Date\" : date_list\n",
    "})\n",
    "\n",
    "#display the dataframe\n",
    "weather_df.head()\n",
    "\n",
    "###lists for easy copying and inclusion\n",
    "#city_list = []\n",
    "#cloudiness_list = []\n",
    "#country_list = []\n",
    "#date_list = []\n",
    "#humidity_list = []\n",
    "#lats_list = []\n",
    "#lngs_list = []\n",
    "#temp_max_list = []\n",
    "#windspeed_list = []"
   ]
  },
  {
   "cell_type": "code",
   "execution_count": 77,
   "metadata": {},
   "outputs": [
    {
     "data": {
      "text/plain": [
       "City                   559\n",
       "Country                559\n",
       "Latitude               559\n",
       "Longitude              559\n",
       "Maximum Temperature    559\n",
       "Humidity               559\n",
       "Clouds                 559\n",
       "Wind Speed             559\n",
       "Date                   559\n",
       "dtype: int64"
      ]
     },
     "execution_count": 77,
     "metadata": {},
     "output_type": "execute_result"
    }
   ],
   "source": [
    "#count the data to make sure it's enough for the exercise\n",
    "weather_df.count()"
   ]
  },
  {
   "cell_type": "code",
   "execution_count": 78,
   "metadata": {},
   "outputs": [],
   "source": [
    "#output the data results to the appropriate csv file for the hw\n",
    "##documentation for .to_csv here: https://pandas.pydata.org/docs/reference/api/pandas.DataFrame.to_csv.html\n",
    "weather_df.to_csv('output_csv', index=False)"
   ]
  },
  {
   "cell_type": "markdown",
   "metadata": {},
   "source": [
    "## Inspect the data and remove the cities where the humidity > 100%.\n",
    "----\n",
    "Skip this step if there are no cities that have humidity > 100%. "
   ]
  },
  {
   "cell_type": "code",
   "execution_count": 79,
   "metadata": {},
   "outputs": [
    {
     "data": {
      "text/html": [
       "<div>\n",
       "<style scoped>\n",
       "    .dataframe tbody tr th:only-of-type {\n",
       "        vertical-align: middle;\n",
       "    }\n",
       "\n",
       "    .dataframe tbody tr th {\n",
       "        vertical-align: top;\n",
       "    }\n",
       "\n",
       "    .dataframe thead th {\n",
       "        text-align: right;\n",
       "    }\n",
       "</style>\n",
       "<table border=\"1\" class=\"dataframe\">\n",
       "  <thead>\n",
       "    <tr style=\"text-align: right;\">\n",
       "      <th></th>\n",
       "      <th>Latitude</th>\n",
       "      <th>Longitude</th>\n",
       "      <th>Maximum Temperature</th>\n",
       "      <th>Humidity</th>\n",
       "      <th>Clouds</th>\n",
       "      <th>Wind Speed</th>\n",
       "      <th>Date</th>\n",
       "    </tr>\n",
       "  </thead>\n",
       "  <tbody>\n",
       "    <tr>\n",
       "      <th>count</th>\n",
       "      <td>559.000000</td>\n",
       "      <td>559.000000</td>\n",
       "      <td>559.000000</td>\n",
       "      <td>559.000000</td>\n",
       "      <td>559.000000</td>\n",
       "      <td>559.000000</td>\n",
       "      <td>5.590000e+02</td>\n",
       "    </tr>\n",
       "    <tr>\n",
       "      <th>mean</th>\n",
       "      <td>19.436835</td>\n",
       "      <td>16.961966</td>\n",
       "      <td>69.568980</td>\n",
       "      <td>67.409660</td>\n",
       "      <td>58.370304</td>\n",
       "      <td>7.616458</td>\n",
       "      <td>1.622656e+09</td>\n",
       "    </tr>\n",
       "    <tr>\n",
       "      <th>std</th>\n",
       "      <td>32.706127</td>\n",
       "      <td>88.798904</td>\n",
       "      <td>16.204979</td>\n",
       "      <td>22.551303</td>\n",
       "      <td>35.785360</td>\n",
       "      <td>4.933379</td>\n",
       "      <td>8.479858e+01</td>\n",
       "    </tr>\n",
       "    <tr>\n",
       "      <th>min</th>\n",
       "      <td>-54.800000</td>\n",
       "      <td>-175.200000</td>\n",
       "      <td>25.540000</td>\n",
       "      <td>5.000000</td>\n",
       "      <td>0.000000</td>\n",
       "      <td>0.000000</td>\n",
       "      <td>1.622656e+09</td>\n",
       "    </tr>\n",
       "    <tr>\n",
       "      <th>25%</th>\n",
       "      <td>-6.730150</td>\n",
       "      <td>-60.119100</td>\n",
       "      <td>57.245000</td>\n",
       "      <td>55.000000</td>\n",
       "      <td>22.000000</td>\n",
       "      <td>3.960000</td>\n",
       "      <td>1.622656e+09</td>\n",
       "    </tr>\n",
       "    <tr>\n",
       "      <th>50%</th>\n",
       "      <td>21.116700</td>\n",
       "      <td>22.957300</td>\n",
       "      <td>72.930000</td>\n",
       "      <td>73.000000</td>\n",
       "      <td>70.000000</td>\n",
       "      <td>6.910000</td>\n",
       "      <td>1.622656e+09</td>\n",
       "    </tr>\n",
       "    <tr>\n",
       "      <th>75%</th>\n",
       "      <td>47.516750</td>\n",
       "      <td>92.688350</td>\n",
       "      <td>80.700000</td>\n",
       "      <td>84.000000</td>\n",
       "      <td>91.000000</td>\n",
       "      <td>10.360000</td>\n",
       "      <td>1.622656e+09</td>\n",
       "    </tr>\n",
       "    <tr>\n",
       "      <th>max</th>\n",
       "      <td>78.218600</td>\n",
       "      <td>179.316700</td>\n",
       "      <td>111.740000</td>\n",
       "      <td>100.000000</td>\n",
       "      <td>100.000000</td>\n",
       "      <td>27.630000</td>\n",
       "      <td>1.622656e+09</td>\n",
       "    </tr>\n",
       "  </tbody>\n",
       "</table>\n",
       "</div>"
      ],
      "text/plain": [
       "         Latitude   Longitude  Maximum Temperature    Humidity      Clouds  \\\n",
       "count  559.000000  559.000000           559.000000  559.000000  559.000000   \n",
       "mean    19.436835   16.961966            69.568980   67.409660   58.370304   \n",
       "std     32.706127   88.798904            16.204979   22.551303   35.785360   \n",
       "min    -54.800000 -175.200000            25.540000    5.000000    0.000000   \n",
       "25%     -6.730150  -60.119100            57.245000   55.000000   22.000000   \n",
       "50%     21.116700   22.957300            72.930000   73.000000   70.000000   \n",
       "75%     47.516750   92.688350            80.700000   84.000000   91.000000   \n",
       "max     78.218600  179.316700           111.740000  100.000000  100.000000   \n",
       "\n",
       "       Wind Speed          Date  \n",
       "count  559.000000  5.590000e+02  \n",
       "mean     7.616458  1.622656e+09  \n",
       "std      4.933379  8.479858e+01  \n",
       "min      0.000000  1.622656e+09  \n",
       "25%      3.960000  1.622656e+09  \n",
       "50%      6.910000  1.622656e+09  \n",
       "75%     10.360000  1.622656e+09  \n",
       "max     27.630000  1.622656e+09  "
      ]
     },
     "execution_count": 79,
     "metadata": {},
     "output_type": "execute_result"
    }
   ],
   "source": [
    "weather_df.describe()"
   ]
  },
  {
   "cell_type": "code",
   "execution_count": 80,
   "metadata": {},
   "outputs": [
    {
     "name": "stdout",
     "output_type": "stream",
     "text": [
      "The Maximum Humidity observed in the DataFrame is 100%. No cities have humidity values greater than 100%. Skipping next step as instructed.\n"
     ]
    }
   ],
   "source": [
    "#  Get the indices of cities that have humidity over 100%.\n",
    "print('The Maximum Humidity observed in the DataFrame is 100%. No cities have humidity values greater than 100%. Skipping next step as instructed.')"
   ]
  },
  {
   "cell_type": "code",
   "execution_count": 81,
   "metadata": {},
   "outputs": [],
   "source": [
    "# Make a new DataFrame equal to the city data to drop all humidity outliers by index.\n",
    "# Passing \"inplace=False\" will make a copy of the city_data DataFrame, which we call \"clean_city_data\".\n"
   ]
  },
  {
   "cell_type": "code",
   "execution_count": null,
   "metadata": {},
   "outputs": [],
   "source": []
  },
  {
   "cell_type": "markdown",
   "metadata": {},
   "source": [
    "## Plotting the Data\n",
    "* Use proper labeling of the plots using plot titles (including date of analysis) and axes labels.\n",
    "* Save the plotted figures as .pngs."
   ]
  },
  {
   "cell_type": "markdown",
   "metadata": {},
   "source": [
    "## Latitude vs. Temperature Plot"
   ]
  },
  {
   "cell_type": "code",
   "execution_count": 82,
   "metadata": {
    "scrolled": true
   },
   "outputs": [
    {
     "data": {
      "image/png": "[encoded data removed]",
      "text/plain": [
       "<Figure size 432x288 with 1 Axes>"
      ]
     },
     "metadata": {
      "needs_background": "light"
     },
     "output_type": "display_data"
    }
   ],
   "source": [
    "#figure out one, and that's the template for all.\n",
    "##use plt.scatter . Then label title, xlabel, ylabel. Gonna use the grid. Use .savefig for .png files.\n",
    "###documentation: https://matplotlib.org/stable/api/_as_gen/matplotlib.pyplot.scatter.html\n",
    "####color documenation: https://matplotlib.org/stable/gallery/color/named_colors.html\n",
    "plt.scatter(weather_df['Latitude'], weather_df['Maximum Temperature'], color=\"darkred\", edgecolor=\"black\")\n",
    "\n",
    "plt.title(\"City Latitude versus Maximum Temperature (5/31/2021)\")\n",
    "plt.xlabel(\"Latitude\")\n",
    "plt.ylabel(\"Maximum Temperature (F)\")\n",
    "plt.savefig(\"../Images/Lat_v_MaxT.png\")"
   ]
  },
  {
   "cell_type": "markdown",
   "metadata": {},
   "source": [
    "## Latitude vs. Humidity Plot"
   ]
  },
  {
   "cell_type": "code",
   "execution_count": 83,
   "metadata": {},
   "outputs": [
    {
     "data": {
      "image/png": "[encoded data removed]",
      "text/plain": [
       "<Figure size 432x288 with 1 Axes>"
      ]
     },
     "metadata": {
      "needs_background": "light"
     },
     "output_type": "display_data"
    }
   ],
   "source": [
    "#with the code successfully running for Latitude Vs. Temperature, copy code as template and re-code as needed for task\n",
    "##make sure to change output .png names\n",
    "###just realized i didn't change the date from yesterday for the first plot. not going to there, will do it for work today.\n",
    "plt.scatter(weather_df['Latitude'], weather_df['Humidity'], color=\"cornflowerblue\", edgecolor=\"black\")\n",
    "\n",
    "plt.title(\"City Latitude versus Humidity (06/01/2021)\")\n",
    "plt.xlabel(\"Latitude\")\n",
    "plt.ylabel(\"Humidity (%)\")\n",
    "plt.savefig(\"../Images/Lat_v_Hum.png\")"
   ]
  },
  {
   "cell_type": "markdown",
   "metadata": {},
   "source": [
    "## Latitude vs. Cloudiness Plot"
   ]
  },
  {
   "cell_type": "code",
   "execution_count": 84,
   "metadata": {},
   "outputs": [
    {
     "data": {
      "image/png": "[encoded data removed]",
      "text/plain": [
       "<Figure size 432x288 with 1 Axes>"
      ]
     },
     "metadata": {
      "needs_background": "light"
     },
     "output_type": "display_data"
    }
   ],
   "source": [
    "#ctrl+c ctrl+v\n",
    "##make sure to change output .png name and date\n",
    "###just realized i didn't output clouds/cloudiness data in the DataFrame step. Have to go back and rerun it and fix it.\n",
    "####went back and re-ran cells. DF updated. Moving forward\n",
    "plt.scatter(weather_df['Latitude'], weather_df['Clouds'], color=\"slategrey\", edgecolor=\"black\")\n",
    "\n",
    "plt.title(\"City Latitude versus Cloudiness (06/01/2021)\")\n",
    "plt.xlabel(\"Latitude\")\n",
    "plt.ylabel(\"Cloudiness (%)\")\n",
    "plt.savefig(\"../Images/Lat_v_Cloud.png\")"
   ]
  },
  {
   "cell_type": "markdown",
   "metadata": {},
   "source": [
    "## Latitude vs. Wind Speed Plot"
   ]
  },
  {
   "cell_type": "code",
   "execution_count": 85,
   "metadata": {},
   "outputs": [
    {
     "data": {
      "image/png": "[encoded data removed]",
      "text/plain": [
       "<Figure size 432x288 with 1 Axes>"
      ]
     },
     "metadata": {
      "needs_background": "light"
     },
     "output_type": "display_data"
    }
   ],
   "source": [
    "#ctrl+c ctrl+v\n",
    "##make sure to change output .png name and date\n",
    "plt.scatter(weather_df['Latitude'], weather_df['Wind Speed'], color=\"fuchsia\", edgecolor=\"black\")\n",
    "\n",
    "plt.title(\"City Latitude versus Wind Speed (06/01/2021)\")\n",
    "plt.xlabel(\"Latitude\")\n",
    "plt.ylabel(\"Windiness (%)\")\n",
    "plt.savefig(\"../Images/Lat_v_Wind.png\")"
   ]
  },
  {
   "cell_type": "markdown",
   "metadata": {},
   "source": [
    "## Linear Regression"
   ]
  },
  {
   "cell_type": "code",
   "execution_count": 86,
   "metadata": {},
   "outputs": [],
   "source": [
    "#already imported linregress in the depnendencies. Checked. Confirmed.\n",
    "##Have to do this with both hemispheres. So start by creating DataFrames for each hemisphere.\n",
    "n_hemisphere_df = weather_df.loc[(weather_df['Latitude']>0)]\n",
    "#n_hemisphere_df.head()\n",
    "s_hemisphere_df = weather_df.loc[(weather_df['Latitude']<0)]\n",
    "#s_hemisphere_df.head()"
   ]
  },
  {
   "cell_type": "code",
   "execution_count": 91,
   "metadata": {},
   "outputs": [],
   "source": [
    "#moved DF portion to cell above. Code seems to run but i don't see the plot. Not throwing an error.\n",
    "###now that we have DFs, we can perform the regression.\n",
    "####documentation here: documentation: https://docs.scipy.org/doc/scipy/reference/generated/scipy.stats.linregress.html\n",
    "#####first define the function\n",
    "def plotLinearRegression(x, y, xlabl, ylabl, lblpos):\n",
    "    (slope, intercept, rvalue, pvalue, stderr) = linregress(x,y)\n",
    "    print(f\"The r-squared value is: {rvalue}\")\n",
    "    regression_value = x * slope + intercept\n",
    "    line_equation = \"y =\" + str(round(slope,2)) + \"x +\" + str(round(intercept,2))\n",
    "\n",
    "##plot test not working. going to try it for north and south hemispere data and see if i need to troubleshoot.  \n",
    "##might be an indent/tab error. This may all need to be tabbed over. Trying now.\n",
    "    plt.scatter(x, y)\n",
    "    plt.plot(x, regression_value, \"r-\")\n",
    "    plt.annotate(line_equation, lblpos, fontsize = 12, color='black')\n",
    "    plt.xlabel(xlabl)\n",
    "    plt.ylabel(ylabl)\n",
    "    plt.savefig(\"../Images/LinRegress_initial.png\")\n",
    "    plt.show()"
   ]
  },
  {
   "cell_type": "code",
   "execution_count": 88,
   "metadata": {},
   "outputs": [
    {
     "data": {
      "text/plain": [
       "City                   383\n",
       "Country                383\n",
       "Latitude               383\n",
       "Longitude              383\n",
       "Maximum Temperature    383\n",
       "Humidity               383\n",
       "Clouds                 383\n",
       "Wind Speed             383\n",
       "Date                   383\n",
       "dtype: int64"
      ]
     },
     "execution_count": 88,
     "metadata": {},
     "output_type": "execute_result"
    }
   ],
   "source": [
    "#Plot the results in the cell above to see if it's reasonable.\n",
    "##having errors running in this cell, moving up code to previous cell\n",
    "\n",
    "n_hemisphere_df.count()"
   ]
  },
  {
   "cell_type": "code",
   "execution_count": 89,
   "metadata": {},
   "outputs": [
    {
     "data": {
      "text/plain": [
       "City                   176\n",
       "Country                176\n",
       "Latitude               176\n",
       "Longitude              176\n",
       "Maximum Temperature    176\n",
       "Humidity               176\n",
       "Clouds                 176\n",
       "Wind Speed             176\n",
       "Date                   176\n",
       "dtype: int64"
      ]
     },
     "execution_count": 89,
     "metadata": {},
     "output_type": "execute_result"
    }
   ],
   "source": [
    "s_hemisphere_df.count()\n"
   ]
  },
  {
   "cell_type": "markdown",
   "metadata": {},
   "source": [
    "####  Northern Hemisphere - Max Temp vs. Latitude Linear Regression"
   ]
  },
  {
   "cell_type": "code",
   "execution_count": 98,
   "metadata": {},
   "outputs": [
    {
     "name": "stdout",
     "output_type": "stream",
     "text": [
      "The r-squared value is: -0.7190367186470842\n"
     ]
    },
    {
     "data": {
      "image/png": "[encoded data removed]",
      "text/plain": [
       "<Figure size 432x288 with 1 Axes>"
      ]
     },
     "metadata": {
      "needs_background": "light"
     },
     "output_type": "display_data"
    },
    {
     "data": {
      "text/plain": [
       "<Figure size 432x288 with 0 Axes>"
      ]
     },
     "metadata": {},
     "output_type": "display_data"
    }
   ],
   "source": [
    "#starting this mess of a cell over.\n",
    "##assign Latitude and Maximum Temperature to x and y and the call the function plotLinearRegression we defined above.\n",
    "xlbl = \"Latitude\"\n",
    "ylbl = \"Maximum Temperature\"\n",
    "lblpos = (0,10)\n",
    "plotLinearRegression(n_hemisphere_df[xlbl], n_hemisphere_df[ylbl], xlbl, ylbl, lblpos)\n",
    "plt.savefig(\"../Images/North_Temp_v_Lat.png\")\n",
    "\n"
   ]
  },
  {
   "cell_type": "markdown",
   "metadata": {},
   "source": [
    "####  Southern Hemisphere - Max Temp vs. Latitude Linear Regression"
   ]
  },
  {
   "cell_type": "code",
   "execution_count": 99,
   "metadata": {},
   "outputs": [
    {
     "name": "stdout",
     "output_type": "stream",
     "text": [
      "The r-squared value is: 0.8104072026211949\n"
     ]
    },
    {
     "data": {
      "image/png": "[encoded data removed]",
      "text/plain": [
       "<Figure size 432x288 with 1 Axes>"
      ]
     },
     "metadata": {
      "needs_background": "light"
     },
     "output_type": "display_data"
    },
    {
     "data": {
      "text/plain": [
       "<Figure size 432x288 with 0 Axes>"
      ]
     },
     "metadata": {},
     "output_type": "display_data"
    }
   ],
   "source": [
    "#since I got the linregress working, copy/paste the code and adjust for the changing tasks\n",
    "xlbl = \"Latitude\"\n",
    "ylbl = \"Maximum Temperature\"\n",
    "lblpos = (0,20)\n",
    "plotLinearRegression(s_hemisphere_df[xlbl], s_hemisphere_df[ylbl], xlbl, ylbl, lblpos)\n",
    "plt.savefig(\"../Images/South_Temp_v_Lat.png\")\n",
    "\n"
   ]
  },
  {
   "cell_type": "markdown",
   "metadata": {},
   "source": [
    "####  Northern Hemisphere - Humidity (%) vs. Latitude Linear Regression"
   ]
  },
  {
   "cell_type": "code",
   "execution_count": 112,
   "metadata": {},
   "outputs": [
    {
     "name": "stdout",
     "output_type": "stream",
     "text": [
      "The r-squared value is: 0.010901876132419755\n"
     ]
    },
    {
     "data": {
      "image/png": "[encoded data removed]",
      "text/plain": [
       "<Figure size 432x288 with 1 Axes>"
      ]
     },
     "metadata": {
      "needs_background": "light"
     },
     "output_type": "display_data"
    },
    {
     "data": {
      "text/plain": [
       "<Figure size 432x288 with 0 Axes>"
      ]
     },
     "metadata": {},
     "output_type": "display_data"
    }
   ],
   "source": [
    "#assign Latitude and humidity to x and y and the call the function plotLinearRegression we defined above.\n",
    "##for reasons i don't understand, the output .png files are just black. \n",
    "xlbl = \"Latitude\"\n",
    "ylbl = \"Humidity\"\n",
    "lblpos = (50,10)\n",
    "plotLinearRegression(n_hemisphere_df[xlbl], n_hemisphere_df[ylbl], xlbl, ylbl, lblpos)\n",
    "plt.savefig(\"../Images/North_Hum_v_Lat.png\")"
   ]
  },
  {
   "cell_type": "markdown",
   "metadata": {},
   "source": [
    "####  Southern Hemisphere - Humidity (%) vs. Latitude Linear Regression"
   ]
  },
  {
   "cell_type": "code",
   "execution_count": 111,
   "metadata": {},
   "outputs": [
    {
     "name": "stdout",
     "output_type": "stream",
     "text": [
      "The r-squared value is: -0.09326402276122231\n"
     ]
    },
    {
     "data": {
      "image/png": "[encoded data removed]",
      "text/plain": [
       "<Figure size 432x288 with 1 Axes>"
      ]
     },
     "metadata": {
      "needs_background": "light"
     },
     "output_type": "display_data"
    },
    {
     "data": {
      "text/plain": [
       "<Figure size 432x288 with 0 Axes>"
      ]
     },
     "metadata": {},
     "output_type": "display_data"
    }
   ],
   "source": [
    "#assign Latitude and humidity to x and y and the call the function plotLinearRegression we defined above.\n",
    "##for reasons i don't understand, the output .png files are just black. \n",
    "xlbl = \"Latitude\"\n",
    "ylbl = \"Humidity\"\n",
    "lblpos = (-50,25)\n",
    "plotLinearRegression(s_hemisphere_df[xlbl], s_hemisphere_df[ylbl], xlbl, ylbl, lblpos)\n",
    "plt.savefig(\"../Images/South_Hum_v_Lat.png\")"
   ]
  },
  {
   "cell_type": "markdown",
   "metadata": {},
   "source": [
    "####  Northern Hemisphere - Cloudiness (%) vs. Latitude Linear Regression"
   ]
  },
  {
   "cell_type": "code",
   "execution_count": 113,
   "metadata": {},
   "outputs": [
    {
     "name": "stdout",
     "output_type": "stream",
     "text": [
      "The r-squared value is: -0.09926610880794551\n"
     ]
    },
    {
     "data": {
      "image/png": "[encoded data removed]",
      "text/plain": [
       "<Figure size 432x288 with 1 Axes>"
      ]
     },
     "metadata": {
      "needs_background": "light"
     },
     "output_type": "display_data"
    },
    {
     "data": {
      "text/plain": [
       "<Figure size 432x288 with 0 Axes>"
      ]
     },
     "metadata": {},
     "output_type": "display_data"
    }
   ],
   "source": [
    "#assign Latitude and cloudiness to x and y and the call the function plotLinearRegression we defined above.\n",
    "##for reasons i don't understand, the output .png files are just black. \n",
    "xlbl = \"Latitude\"\n",
    "ylbl = \"Clouds\"\n",
    "lblpos = (0,5)\n",
    "plotLinearRegression(n_hemisphere_df[xlbl], n_hemisphere_df[ylbl], xlbl, ylbl, lblpos)\n",
    "plt.savefig(\"../Images/North_Cloud_v_Lat.png\")"
   ]
  },
  {
   "cell_type": "markdown",
   "metadata": {},
   "source": [
    "####  Southern Hemisphere - Cloudiness (%) vs. Latitude Linear Regression"
   ]
  },
  {
   "cell_type": "code",
   "execution_count": 117,
   "metadata": {},
   "outputs": [
    {
     "name": "stdout",
     "output_type": "stream",
     "text": [
      "The r-squared value is: 0.14072718036294257\n"
     ]
    },
    {
     "data": {
      "image/png": "[encoded data removed]",
      "text/plain": [
       "<Figure size 432x288 with 1 Axes>"
      ]
     },
     "metadata": {
      "needs_background": "light"
     },
     "output_type": "display_data"
    },
    {
     "data": {
      "text/plain": [
       "<Figure size 432x288 with 0 Axes>"
      ]
     },
     "metadata": {},
     "output_type": "display_data"
    }
   ],
   "source": [
    "#assign Latitude and cloudiness to x and y and the call the function plotLinearRegression we defined above.\n",
    "##for reasons i don't understand, the output .png files are just black. \n",
    "xlbl = \"Latitude\"\n",
    "ylbl = \"Clouds\"\n",
    "lblpos = (-50,30)\n",
    "plotLinearRegression(s_hemisphere_df[xlbl], s_hemisphere_df[ylbl], xlbl, ylbl, lblpos)\n",
    "plt.savefig(\"../Images/South_Cloud_v_Lat.png\")"
   ]
  },
  {
   "cell_type": "markdown",
   "metadata": {},
   "source": [
    "####  Northern Hemisphere - Wind Speed (mph) vs. Latitude Linear Regression"
   ]
  },
  {
   "cell_type": "code",
   "execution_count": 118,
   "metadata": {},
   "outputs": [
    {
     "name": "stdout",
     "output_type": "stream",
     "text": [
      "The r-squared value is: -0.06451346947592483\n"
     ]
    },
    {
     "data": {
      "image/png": "[encoded data removed]",
      "text/plain": [
       "<Figure size 432x288 with 1 Axes>"
      ]
     },
     "metadata": {
      "needs_background": "light"
     },
     "output_type": "display_data"
    },
    {
     "data": {
      "text/plain": [
       "<Figure size 432x288 with 0 Axes>"
      ]
     },
     "metadata": {},
     "output_type": "display_data"
    }
   ],
   "source": [
    "#assign Latitude and humidity to x and y and the call the function plotLinearRegression we defined above.\n",
    "##for reasons i don't understand, the output .png files are just black. \n",
    "xlbl = \"Latitude\"\n",
    "ylbl = \"Wind Speed\"\n",
    "lblpos = (50,22)\n",
    "plotLinearRegression(n_hemisphere_df[xlbl], n_hemisphere_df[ylbl], xlbl, ylbl, lblpos)\n",
    "plt.savefig(\"../Images/North_wind_v_Lat.png\")"
   ]
  },
  {
   "cell_type": "markdown",
   "metadata": {},
   "source": [
    "####  Southern Hemisphere - Wind Speed (mph) vs. Latitude Linear Regression"
   ]
  },
  {
   "cell_type": "code",
   "execution_count": 120,
   "metadata": {},
   "outputs": [
    {
     "name": "stdout",
     "output_type": "stream",
     "text": [
      "The r-squared value is: -0.04022318411374308\n"
     ]
    },
    {
     "data": {
      "image/png": "[encoded data removed]",
      "text/plain": [
       "<Figure size 432x288 with 1 Axes>"
      ]
     },
     "metadata": {
      "needs_background": "light"
     },
     "output_type": "display_data"
    },
    {
     "data": {
      "text/plain": [
       "<Figure size 432x288 with 0 Axes>"
      ]
     },
     "metadata": {},
     "output_type": "display_data"
    }
   ],
   "source": [
    "#assign Latitude and humidity to x and y and the call the function plotLinearRegression we defined above.\n",
    "##for reasons i don't understand, the output .png files are just black. \n",
    "xlbl = \"Latitude\"\n",
    "ylbl = \"Wind Speed\"\n",
    "lblpos = (-55,15)\n",
    "plotLinearRegression(s_hemisphere_df[xlbl], s_hemisphere_df[ylbl], xlbl, ylbl, lblpos)\n",
    "plt.savefig(\"../Images/sorth_wind_v_Lat.png\")"
   ]
  },
  {
   "cell_type": "code",
   "execution_count": 123,
   "metadata": {},
   "outputs": [
    {
     "name": "stdout",
     "output_type": "stream",
     "text": [
      "Observations\n",
      "1. Temperature and Latitude are highly correlable. Temperature decreasing toward the poles.\n",
      "2. Coudiness and Latitude are correlable. Cloudiness decreasing toward the poles. \n",
      "3. Humidity and Winde Speed are poorly correlable to latitude. Implying controls are likely more topographic and geographic than positional.\n"
     ]
    }
   ],
   "source": [
    "print(\"Observations\")\n",
    "print(\"1. Temperature and Latitude are highly correlable. Temperature decreasing toward the poles.\")\n",
    "print(\"2. Coudiness and Latitude are correlable. Cloudiness decreasing toward the poles. \")\n",
    "print(\"3. Humidity and Winde Speed are poorly correlable to latitude. Implying controls are likely more topographic and geographic than positional.\")"
   ]
  },
  {
   "cell_type": "code",
   "execution_count": null,
   "metadata": {},
   "outputs": [],
   "source": []
  }
 ],
 "metadata": {
  "anaconda-cloud": {},
  "kernel_info": {
   "name": "python3"
  },
  "kernelspec": {
   "display_name": "Python [conda env:root] *",
   "language": "python",
   "name": "conda-root-py"
  },
  "language_info": {
   "codemirror_mode": {
    "name": "ipython",
    "version": 3
   },
   "file_extension": ".py",
   "mimetype": "text/x-python",
   "name": "python",
   "nbconvert_exporter": "python",
   "pygments_lexer": "ipython3",
   "version": "3.8.5"
  },
  "latex_envs": {
   "LaTeX_envs_menu_present": true,
   "autoclose": false,
   "autocomplete": true,
   "bibliofile": "biblio.bib",
   "cite_by": "apalike",
   "current_citInitial": 1,
   "eqLabelWithNumbers": true,
   "eqNumInitial": 1,
   "hotkeys": {
    "equation": "Ctrl-E",
    "itemize": "Ctrl-I"
   },
   "labels_anchors": false,
   "latex_user_defs": false,
   "report_style_numbering": false,
   "user_envs_cfg": false
  },
  "nteract": {
   "version": "0.12.3"
  }
 },
 "nbformat": 4,
 "nbformat_minor": 2
}
