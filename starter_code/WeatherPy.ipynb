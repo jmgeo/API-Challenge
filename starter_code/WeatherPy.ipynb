{
 "cells": [
  {
   "cell_type": "markdown",
   "metadata": {},
   "source": [
    "# WeatherPy\n",
    "----\n",
    "\n",
    "#### Note\n",
    "* Instructions have been included for each segment. You do not have to follow them exactly, but they are included to help you think through the steps."
   ]
  },
  {
   "cell_type": "code",
   "execution_count": 1,
   "metadata": {
    "scrolled": true
   },
   "outputs": [],
   "source": [
    "# Import Dependencies and Setup\n",
    "import matplotlib.pyplot as plt\n",
    "import pandas as pd\n",
    "import numpy as np\n",
    "import requests\n",
    "import gmaps\n",
    "import os\n",
    "import time\n",
    "import json\n",
    "import citipy\n",
    "\n",
    "from scipy.stats import linregress\n",
    "from citipy import citipy\n",
    "\n",
    "# Import API key\n",
    "from api_keys import weather_api_key\n",
    "from api_keys import g_key\n",
    "\n",
    "#Output data as CSV to appropriate file\n",
    "output_csv = \"output_data/cities.csv\"\n",
    "\n",
    "#create a range for latitudes and longitudes\n",
    "lat_range = (-90, 90)\n",
    "lng_range = (-180, 180)"
   ]
  },
  {
   "cell_type": "markdown",
   "metadata": {},
   "source": [
    "## Generate Cities List"
   ]
  },
  {
   "cell_type": "code",
   "execution_count": 2,
   "metadata": {},
   "outputs": [
    {
     "name": "stdout",
     "output_type": "stream",
     "text": [
      "['sorong', 'faanui', 'butaritari', 'karakendzha', 'bandarbeyla', 'scarborough', 'lisakovsk', 'cape town', 'punta arenas', 'puerto ayora', 'nikolskoye', 'kavaratti', 'olafsvik', 'hermanus', 'ilulissat', 'pochutla', 'rutland', 'busselton', 'east london', 'festus', 'nanakuli', 'severo-kurilsk', 'sao joao da barra', 'thompson', 'vaini', 'bethel', 'zeya', 'sao sepe', 'pastavy', 'ancud', 'arraial do cabo', 'saint anthony', 'rikitea', 'bonavista', 'tuktoyaktuk', 'kruisfontein', 'georgetown', 'ushuaia', 'bredasdorp', 'taveta', 'taolanaro', 'rocha', 'poum', 'belushya guba', 'ca mau', 'ribeira grande', 'albany', 'port alfred', 'jilmah', 'tual', 'karkaralinsk', 'tara', 'bathsheba', 'avarua', 'saskylakh', 'saldanha', 'cayenne', 'filingue', 'souillac', 'kavieng', 'oroville', 'terrak', 'ketchenery', 'oak harbor', 'springbok', 'attawapiskat', 'hamilton', 'bengkulu', 'illoqqortoormiut', 'cherskiy', 'luba', 'ponta do sol', 'yulara', 'castro', 'new norfolk', 'hobart', 'mys shmidta', 'rorvik', 'gurupa', 'dikson', 'utiroa', 'mahebourg', 'katsuura', 'meulaboh', 'herat', 'cabo san lucas', 'aklavik', 'longyearbyen', 'praia da vitoria', 'olinda', 'banff', 'mataura', 'yerbogachen', 'kodiak', 'jamestown', 'halalo', 'ulladulla', 'vostok', 'la orilla', 'mehamn', 'mrirt', 'liverpool', 'vestmannaeyjar', 'tasiilaq', 'marawi', 'oktyabrskoye', 'kasongo-lunda', 'san patricio', 'saint george', 'los llanos de aridane', 'saint-louis', 'pangnirtung', 'barrow', 'broken hill', 'luderitz', 'nueve de julio', 'tsihombe', 'khatanga', 'waycross', 'yellowknife', 'kaitangata', 'bethanien', 'mayya', 'honiara', 'te anau', 'gizo', 'tiksi', 'beisfjord', 'yarqa', 'salalah', 'kushima', 'kamenskoye', 'formoso do araguaia', 'stykkisholmur', 'kawhia', 'nanortalik', 'safford', 'deniliquin', 'bluff', 'alugan', 'avera', 'ahipara', 'bargal', 'ayagoz', 'magugu', 'faya', 'sur', 'port shepstone', 'azimur', 'lavrentiya', 'kaputa', 'hasaki', 'skalnyy', 'gasa', 'alexandria', 'maralal', 'qaanaaq', 'atuona', 'lhuntshi', 'mathathane', 'mapiri', 'lincoln', 'karratha', 'samusu', 'vaitupu', 'saint-augustin', 'itarema', 'pisco', 'mocuba', 'guajara-mirim', 'chuy', 'cockburn town', 'kapaa', 'vilyuysk', 'sinnamary', 'alta floresta', 'dingle', 'mar del plata', 'jumla', 'ordynskoye', 'coquimbo', 'upernavik', 'itaituba', 'flin flon', 'potosi', 'bin qirdan', 'marzuq', 'waingapu', 'severo-yeniseyskiy', 'alpena', 'grand river south east', 'gat', 'nizhneyansk', 'lompoc', 'cidreira', 'lagoa', 'sitka', 'hilo', 'szigetujfalu', 'narsaq', 'palabuhanratu', 'phultala', 'santa cruz', 'chokurdakh', 'port elizabeth', 'sri aman', 'axim', 'ballina', 'ngunguru', 'barawe', 'clyde river', 'canberra', 'nguiu', 'salinas', 'boa vista', 'lazaro cardenas', 'coahuayana', 'caravelas', 'mandalgovi', 'kautokeino', 'port blair', 'gavrilovka vtoraya', 'hithadhoo', 'coffs harbour', 'calvinia', 'makat', 'leningradskiy', 'butajira', 'ayan', 'griffith', 'mount gambier', 'port hardy', 'plettenberg bay', 'khasan', 'bairiki', 'makakilo city', 'brae', 'arman', 'saint-philippe', 'akniste', 'umm lajj', 'katobu', 'lebu', 'grand gaube', 'touros', 'prieska', 'atasu', 'san andres', 'saleaula', 'poronaysk', 'san joaquin', 'gao', 'lovozero', 'talara', 'ferme-neuve', 'tumannyy', 'salta', 'fernandina beach', 'kulhudhuffushi', 'guiyang', 'tanabe', 'gidam', 'devils lake', 'carnarvon', 'venado tuerto', 'tacoronte', 'codrington', 'mecca', 'inhambane', 'leshukonskoye', 'provideniya', 'longlac', 'fortuna', 'tilichiki', 'klaksvik', 'pierre', 'namibe', 'shchuchye', 'torbay', 'macia', 'nelson bay', 'am timan', 'victoria', 'paamiut', 'amderma', 'oga', 'atar', 'yakeshi', 'lagunillas', 'lac-au-saumon', 'sechura', 'springfield', 'meyungs', 'pilar', 'panguma', 'naryan-mar', 'shamgarh', 'nata', 'nokaneng', 'mareeba', 'mbekenyera', 'sao filipe', 'yar-sale', 'yinchuan', 'mao', 'poso', 'semnan', 'kushiro', 'juneau', 'shingu', 'mahina', 'viedma', 'naze', 'patti', 'tuatapere', 'san cristobal', 'simbahan', 'gornyy', 'belmonte', 'mikkeli', 'vila', 'gorno-chuyskiy', 'shimoda', 'eureka', 'jiroft', 'kutum', 'erenhot', 'imeni poliny osipenko', 'parkes', 'sobolevo', 'killybegs', 'moranbah', 'bambous virieux', 'gravdal', 'tagusao', 'haines junction', 'qianan', 'seddon', 'sabya', 'flinders', 'dudinka', 'burkburnett', 'lolua', 'guerrero negro', 'amahai', 'asyut', 'ihiala', 'sawtell', 'caucaia', 'norman wells', 'kashi', 'mitsamiouli', 'bridgetown', 'mampong', 'mananara', 'bangassou', 'biscarrosse', 'bilibino', 'dhidhdhoo', 'pekan', 'hirado', 'bubaque', 'turukhansk', 'luganville', 'ostrovnoy', 'airai', 'portland', 'alofi', 'lubben', 'bambanglipuro', 'igarka', 'hofn', 'kirovsk', 'mount isa', 'isangel', 'yumen', 'aktash', 'fort saint john', 'moron', 'slonim', 'naron', 'tura', 'bahir dar', 'muros', 'nouadhibou', 'cayeli', 'sikonge', 'neiafu', 'arlit', 'harlingen', 'yonezawa', 'kirkkonummi', 'pyapon', 'san quintin', 'mabaruma', 'oranjestad', 'golden', 'zhezkazgan', 'ngukurr', 'nome', 'strelka', 'san angelo', 'aanekoski', 'salisbury', 'luocheng', 'taoudenni', 'hibbing', 'cordoba', 'cap malheureux', 'qazigund', 'acari', 'sangar', 'vila velha', 'tiznit', 'tecoanapa', 'katangli', 'cortez', 'santa maria', 'barentsburg', 'sabang', 'kontagora', 'vysokogornyy', 'taburi', 'uniao', 'evensk', 'muravlenko', 'hualmay', 'esperance', 'muzhi', 'sola', 'quatre cocos', 'vardo', 'port lincoln', 'sinazongwe', 'ixtapa', 'camacha', 'oyem', 'iqaluit', 'piacabucu', 'fredericksburg', 'lorengau', 'hihifo', 'henties bay', 'robertsport', 'zhangye', 'corinto', 'trairi', 'buchanan', 'sakakah', 'quang ngai', 'kahului', 'prince rupert', 'presidente medici', 'belyy yar', 'xam nua', 'richards bay', 'berlevag', 'tabas', 'pevek', 'dekoa', 'gillette', 'maceio', 'cururupu', 'dubbo', 'ambilobe', 'nortelandia', 'sorland', 'vila franca do campo', 'pirgos', 'faranah', 'lasa', 'san juan', 'bereda', 'pemba', 'jiuquan', 'manjacaze', 'trenggalek', 'prince george', 'nizhneudinsk', 'tucuma', 'quelimane', 'angra', 'san policarpo', 'opuwo', 'kadnikov', 'kupang', 'boende', 'tosya', 'xiaoshi', 'pervomayskiy', 'manggar', 'la ronge', 'inuvik', 'harrai', 'west wendover', 'necochea', 'nha trang', 'iracoubo', 'klamath falls', 'tubigan', 'portobelo', 'kirakira', 'tanete', 'comodoro rivadavia', 'port-cartier', 'ponnani', 'talnakh', 'mandera', 'shenkursk', 'catumbela', 'contai', 'moanda', 'reading', 'shahr-e babak', 'tiarei', 'tariba', 'geraldton', 'tsurib', 'voyvozh', 'sorvag', 'samarai', 'leh', 'pangody', 'roma', 'solsvik', 'kawalu', 'qaqortoq', 'thiruvananthapuram', 'zhigansk', 'ondorhaan', 'arys', 'ola', 'batsfjord', 'mackay', 'soure', 'taldan', 'emerald', 'margate', 'kaoma', 'hambantota', 'oum hadjer', 'peterborough', 'kieta', 'shanhetun', 'novikovo', 'teruel', 'sisimiut', 'soe', 'sentyabrskiy', 'auki', 'tandil', 'westport', 'saint-pierre', 'russell', 'trelew', 'verkh-usugli', 'londiani', 'kabarnet', 'xingyi', 'xining', 'kodinsk', 'bay-khaak', 'monte alegre', 'natal', 'skibbereen', 'satitoa', 'rio gallegos', 'yelan', 'wewak', 'gushi', 'yuxia', 'kimparana', 'lobito', 'pemalang']\n"
     ]
    },
    {
     "data": {
      "text/plain": [
       "574"
      ]
     },
     "execution_count": 2,
     "metadata": {},
     "output_type": "execute_result"
    }
   ],
   "source": [
    "#first make lists to hold latitudes and longitudes. Also make a list to hold cities.\n",
    "lats_lngs = []\n",
    "cities = []\n",
    "\n",
    "#generate a random series of latitude and longitude coordinates. Use numpy random function.\n",
    "lats = np.random.uniform(lat_range[0], lat_range[1], size=1500)\n",
    "lngs = np.random.uniform(lng_range[0], lng_range[1], size=1500)\n",
    "\n",
    "#use the zip function to combine and place into the empty lats_lngs list\n",
    "lats_lngs = zip(lats, lngs)\n",
    "\n",
    "#use citipy to find the city closest to the random lat/lng combos.\n",
    "for lat_lng in lats_lngs:\n",
    "    city = citipy.nearest_city(lat_lng[0], lat_lng[1]).city_name\n",
    "    \n",
    "    #For each unique city, add it to the empty cities list\n",
    "    if city not in cities:\n",
    "        cities.append(city)\n",
    "\n",
    "#print the cities to confirm sample size is adequate\n",
    "print(cities)\n",
    "len(cities)\n"
   ]
  },
  {
   "cell_type": "markdown",
   "metadata": {},
   "source": [
    "### Perform API Calls\n",
    "* Perform a weather check on each city using a series of successive API calls.\n",
    "* Include a print log of each city as it'sbeing processed (with the city number and city name).\n"
   ]
  },
  {
   "cell_type": "code",
   "execution_count": null,
   "metadata": {
    "scrolled": true
   },
   "outputs": [
    {
     "name": "stdout",
     "output_type": "stream",
     "text": [
      "Processing Data 1 of Set 1:sorong\n",
      "Processing Data 2 of Set 1:faanui\n",
      "Processing Data 3 of Set 1:butaritari\n",
      "City not located. Moving on.\n",
      "Processing Data 4 of Set 1:bandarbeyla\n",
      "Processing Data 5 of Set 1:scarborough\n",
      "Processing Data 6 of Set 1:lisakovsk\n",
      "Processing Data 7 of Set 1:cape town\n"
     ]
    }
   ],
   "source": [
    "#first create the necessary lists and counters to perform all the requested operations\n",
    "city_list = []\n",
    "cloudiness_list = []\n",
    "country_list = []\n",
    "date_list = []\n",
    "humidity_list = []\n",
    "lats_list = []\n",
    "lngs_list = []\n",
    "temp_max_list = []\n",
    "windspeed_list = []\n",
    "index_counter = 0\n",
    "set_counter = 1\n",
    "\n",
    "#perform API Calls\n",
    "##point to the url needed for the data and set the units for the output to imperial\n",
    "base_url = \"http://api.openweathermap.org/data/2.5/weather?\"\n",
    "units = \"imperial\"\n",
    "\n",
    "#set the url for the query\n",
    "query_url = f\"{base_url}appid={weather_api_key}&units={units}&q=\"\n",
    "\n",
    "#construct a for loop that matches city names with the city_list.\n",
    "##Enumerate is the key here. Documentation: https://docs.python.org/3/library/functions.html?highlight=enumerate#enumerate\n",
    "for index, city in enumerate(cities, start = 1):\n",
    "    try:\n",
    "        response = requests.get(query_url + city).json()\n",
    "        #now insert all the names of the lists we made and append to them\n",
    "        city_list.append(response[\"name\"])\n",
    "        cloudiness_list.append(response[\"clouds\"][\"all\"])\n",
    "        country_list.append(response[\"sys\"][\"country\"])\n",
    "        date_list.append(response[\"dt\"])\n",
    "        humidity_list.append(response[\"main\"][\"humidity\"])\n",
    "        lats_list.append(response[\"coord\"][\"lat\"])\n",
    "        lngs_list.append(response[\"coord\"][\"lon\"])\n",
    "        temp_max_list.append(response[\"main\"][\"temp_max\"])\n",
    "        windspeed_list.append(response[\"wind\"][\"speed\"])\n",
    "        \n",
    "        #use if and else statements pointing to the counters to loop through\n",
    "        if index_counter > 49:\n",
    "            index_counter = 0\n",
    "            set_counter = set_counter + 1\n",
    "            \n",
    "        else:\n",
    "            index_counter = index_counter + 1\n",
    "        \n",
    "        #return the results with an f string\n",
    "        print(f\"Processing Data {index_counter} of Set {set_counter}:{city}\")\n",
    "        \n",
    "    #handle the errors with an exception\n",
    "    except(KeyError, IndexError):\n",
    "        print(\"City not located. Moving on.\")\n",
    "print(\"I'm Finished.\")"
   ]
  },
  {
   "cell_type": "markdown",
   "metadata": {},
   "source": [
    "### Convert Raw Data to DataFrame\n",
    "* Export the city data into a .csv.\n",
    "* Display the DataFrame"
   ]
  },
  {
   "cell_type": "code",
   "execution_count": null,
   "metadata": {},
   "outputs": [],
   "source": [
    "#editing code for another push. had an error.\n",
    "##create the dataframe with pd.DataFrame\n",
    "weather_df = pd.DataFrame({\n",
    "    \"City\" : city_list,\n",
    "    \"Country\" : country_list,\n",
    "    \"Latitude\" : lats_list,\n",
    "    \"Longitude\" : lngs_list,\n",
    "    \"Maximum Temperature\" : temp_max_list,\n",
    "    \"Humidity\" : humidity_list,\n",
    "    \"Wind Speed\" : windspeed_list,\n",
    "    \"Date\" : date_list\n",
    "})\n",
    "\n",
    "#display the dataframe\n",
    "weather_df.head()\n",
    "\n",
    "###lists for easy copying and inclusion\n",
    "#city_list = []\n",
    "#cloudiness_list = []\n",
    "#country_list = []\n",
    "#date_list = []\n",
    "#humidity_list = []\n",
    "#lats_list = []\n",
    "#lngs_list = []\n",
    "#temp_max_list = []\n",
    "#windspeed_list = []"
   ]
  },
  {
   "cell_type": "code",
   "execution_count": null,
   "metadata": {},
   "outputs": [],
   "source": [
    "#count the data to make sure it's enough for the exercise\n",
    "weather_df.count()"
   ]
  },
  {
   "cell_type": "code",
   "execution_count": null,
   "metadata": {},
   "outputs": [],
   "source": [
    "#output the data results to the appropriate csv file for the hw\n",
    "##documentation for .to_csv here: https://pandas.pydata.org/docs/reference/api/pandas.DataFrame.to_csv.html\n",
    "weather_df.to_csv('output_csv', index=False)"
   ]
  },
  {
   "cell_type": "markdown",
   "metadata": {},
   "source": [
    "## Inspect the data and remove the cities where the humidity > 100%.\n",
    "----\n",
    "Skip this step if there are no cities that have humidity > 100%. "
   ]
  },
  {
   "cell_type": "code",
   "execution_count": null,
   "metadata": {},
   "outputs": [],
   "source": [
    "weather_df.describe()"
   ]
  },
  {
   "cell_type": "code",
   "execution_count": null,
   "metadata": {},
   "outputs": [],
   "source": [
    "#  Get the indices of cities that have humidity over 100%.\n",
    "print('The Maximum Humidity observed in the DataFrame is 100%. No cities have humidity values greater than 100%. Skipping next step as instructed.')"
   ]
  },
  {
   "cell_type": "code",
   "execution_count": null,
   "metadata": {},
   "outputs": [],
   "source": [
    "# Make a new DataFrame equal to the city data to drop all humidity outliers by index.\n",
    "# Passing \"inplace=False\" will make a copy of the city_data DataFrame, which we call \"clean_city_data\".\n"
   ]
  },
  {
   "cell_type": "code",
   "execution_count": null,
   "metadata": {},
   "outputs": [],
   "source": [
    "\n"
   ]
  },
  {
   "cell_type": "markdown",
   "metadata": {},
   "source": [
    "## Plotting the Data\n",
    "* Use proper labeling of the plots using plot titles (including date of analysis) and axes labels.\n",
    "* Save the plotted figures as .pngs."
   ]
  },
  {
   "cell_type": "markdown",
   "metadata": {},
   "source": [
    "## Latitude vs. Temperature Plot"
   ]
  },
  {
   "cell_type": "code",
   "execution_count": null,
   "metadata": {
    "scrolled": true
   },
   "outputs": [],
   "source": [
    "#figure out one, and that's the template for all.\n",
    "##use plt.scatter . Then label title, xlabel, ylabel. Gonna use the grid. Use .savefig for .png files.\n",
    "###documentation: https://matplotlib.org/stable/api/_as_gen/matplotlib.pyplot.scatter.html\n",
    "####color documenation: https://matplotlib.org/stable/gallery/color/named_colors.html\n",
    "plt.scatter(weather_df['Latitude'], weather_df['Maximum Temperature'], color=\"darkred\", edgecolor=\"black\")\n",
    "\n",
    "plt.title(\"City Latitude versus Maximum Temperature (5/31/2021)\")\n",
    "plt.xlabel(\"Latitude\")\n",
    "plt.ylabel(\"Maximum Temperature (F)\")\n",
    "plt.savefig(\"../Images/Lat_v_MaxT.png\")"
   ]
  },
  {
   "cell_type": "markdown",
   "metadata": {},
   "source": [
    "## Latitude vs. Humidity Plot"
   ]
  },
  {
   "cell_type": "code",
   "execution_count": null,
   "metadata": {},
   "outputs": [],
   "source": []
  },
  {
   "cell_type": "markdown",
   "metadata": {},
   "source": [
    "## Latitude vs. Cloudiness Plot"
   ]
  },
  {
   "cell_type": "code",
   "execution_count": null,
   "metadata": {},
   "outputs": [],
   "source": []
  },
  {
   "cell_type": "markdown",
   "metadata": {},
   "source": [
    "## Latitude vs. Wind Speed Plot"
   ]
  },
  {
   "cell_type": "code",
   "execution_count": null,
   "metadata": {},
   "outputs": [],
   "source": []
  },
  {
   "cell_type": "markdown",
   "metadata": {},
   "source": [
    "## Linear Regression"
   ]
  },
  {
   "cell_type": "code",
   "execution_count": null,
   "metadata": {},
   "outputs": [],
   "source": []
  },
  {
   "cell_type": "markdown",
   "metadata": {},
   "source": [
    "####  Northern Hemisphere - Max Temp vs. Latitude Linear Regression"
   ]
  },
  {
   "cell_type": "code",
   "execution_count": null,
   "metadata": {},
   "outputs": [],
   "source": []
  },
  {
   "cell_type": "markdown",
   "metadata": {},
   "source": [
    "####  Southern Hemisphere - Max Temp vs. Latitude Linear Regression"
   ]
  },
  {
   "cell_type": "code",
   "execution_count": null,
   "metadata": {},
   "outputs": [],
   "source": []
  },
  {
   "cell_type": "markdown",
   "metadata": {},
   "source": [
    "####  Northern Hemisphere - Humidity (%) vs. Latitude Linear Regression"
   ]
  },
  {
   "cell_type": "code",
   "execution_count": null,
   "metadata": {},
   "outputs": [],
   "source": []
  },
  {
   "cell_type": "markdown",
   "metadata": {},
   "source": [
    "####  Southern Hemisphere - Humidity (%) vs. Latitude Linear Regression"
   ]
  },
  {
   "cell_type": "code",
   "execution_count": null,
   "metadata": {},
   "outputs": [],
   "source": []
  },
  {
   "cell_type": "markdown",
   "metadata": {},
   "source": [
    "####  Northern Hemisphere - Cloudiness (%) vs. Latitude Linear Regression"
   ]
  },
  {
   "cell_type": "code",
   "execution_count": null,
   "metadata": {},
   "outputs": [],
   "source": []
  },
  {
   "cell_type": "markdown",
   "metadata": {},
   "source": [
    "####  Southern Hemisphere - Cloudiness (%) vs. Latitude Linear Regression"
   ]
  },
  {
   "cell_type": "code",
   "execution_count": null,
   "metadata": {},
   "outputs": [],
   "source": []
  },
  {
   "cell_type": "markdown",
   "metadata": {},
   "source": [
    "####  Northern Hemisphere - Wind Speed (mph) vs. Latitude Linear Regression"
   ]
  },
  {
   "cell_type": "code",
   "execution_count": null,
   "metadata": {},
   "outputs": [],
   "source": []
  },
  {
   "cell_type": "markdown",
   "metadata": {},
   "source": [
    "####  Southern Hemisphere - Wind Speed (mph) vs. Latitude Linear Regression"
   ]
  },
  {
   "cell_type": "code",
   "execution_count": null,
   "metadata": {},
   "outputs": [],
   "source": []
  },
  {
   "cell_type": "code",
   "execution_count": null,
   "metadata": {},
   "outputs": [],
   "source": []
  }
 ],
 "metadata": {
  "anaconda-cloud": {},
  "kernel_info": {
   "name": "python3"
  },
  "kernelspec": {
   "display_name": "Python [conda env:root] *",
   "language": "python",
   "name": "conda-root-py"
  },
  "language_info": {
   "codemirror_mode": {
    "name": "ipython",
    "version": 3
   },
   "file_extension": ".py",
   "mimetype": "text/x-python",
   "name": "python",
   "nbconvert_exporter": "python",
   "pygments_lexer": "ipython3",
   "version": "3.8.5"
  },
  "latex_envs": {
   "LaTeX_envs_menu_present": true,
   "autoclose": false,
   "autocomplete": true,
   "bibliofile": "biblio.bib",
   "cite_by": "apalike",
   "current_citInitial": 1,
   "eqLabelWithNumbers": true,
   "eqNumInitial": 1,
   "hotkeys": {
    "equation": "Ctrl-E",
    "itemize": "Ctrl-I"
   },
   "labels_anchors": false,
   "latex_user_defs": false,
   "report_style_numbering": false,
   "user_envs_cfg": false
  },
  "nteract": {
   "version": "0.12.3"
  }
 },
 "nbformat": 4,
 "nbformat_minor": 2
}
