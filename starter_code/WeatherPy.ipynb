{
 "cells": [
  {
   "cell_type": "markdown",
   "metadata": {},
   "source": [
    "# WeatherPy\n",
    "----\n",
    "\n",
    "#### Note\n",
    "* Instructions have been included for each segment. You do not have to follow them exactly, but they are included to help you think through the steps."
   ]
  },
  {
   "cell_type": "code",
   "execution_count": 2,
   "metadata": {
    "scrolled": true
   },
   "outputs": [],
   "source": [
    "# Import Dependencies and Setup\n",
    "import matplotlib.pyplot as plt\n",
    "import pandas as pd\n",
    "import numpy as np\n",
    "import requests\n",
    "import gmaps\n",
    "import os\n",
    "import time\n",
    "import json\n",
    "import citipy\n",
    "\n",
    "from scipy.stats import linregress\n",
    "from citipy import citipy\n",
    "\n",
    "# Import API key\n",
    "from api_keys import weather_api_key\n",
    "from api_keys import g_key\n",
    "\n",
    "#Output data as CSV to appropriate file\n",
    "output_csv = \"output_data/cities.csv\"\n",
    "\n",
    "#create a range for latitudes and longitudes\n",
    "lat_range = (-90, 90)\n",
    "lng_range = (-180, 180)"
   ]
  },
  {
   "cell_type": "markdown",
   "metadata": {},
   "source": [
    "## Generate Cities List"
   ]
  },
  {
   "cell_type": "code",
   "execution_count": 4,
   "metadata": {},
   "outputs": [
    {
     "name": "stdout",
     "output_type": "stream",
     "text": [
      "['iqaluit', 'san carlos de bariloche', 'rikitea', 'albany', 'avarua', 'hamilton', 'daxian', 'isangel', 'tashla', 'taolanaro', 'samarai', 'ishigaki', 'miraflores', 'aklavik', 'carnarvon', 'ponta do sol', 'mehamn', 'ribeira grande', 'bluff', 'rani', 'utiroa', 'mount gambier', 'mataura', 'busselton', 'hermanus', 'khash', 'tuktoyaktuk', 'rocha', 'saint-augustin', 'ushuaia', 'lorengau', 'georgetown', 'ilulissat', 'yellowknife', 'houma', 'meyungs', 'torbay', 'punta arenas', 'mahebourg', 'barbar', 'puerto ayora', 'walvis bay', 'salisbury', 'auki', 'dzilam gonzalez', 'codrington', 'broken hill', 'smithers', 'flinders', 'nampula', 'jamestown', 'tsihombe', 'fairbanks', 'port alfred', 'dikson', 'shimoda', 'butaritari', 'leningradskiy', 'camacha', 'tasiilaq', 'lebu', 'saint-philippe', 'airai', 'sterling', 'hithadhoo', 'serrinha', 'ternate', 'atuona', 'hilo', 'pisco', 'tessalit', 'carbonia', 'nizhneyansk', 'geraldton', 'sistranda', 'west bay', 'barrow', 'saint george', 'ancud', 'vaini', 'stephenville', 'sambava', 'klaksvik', 'paamiut', 'san fernando', 'lompoc', 'korla', 'riberalta', 'fomboni', 'eregli', 'cidreira', 'ilheus', 'isla vista', 'tocopilla', 'nyirabrany', 'cocorit', 'te anau', 'ibicui', 'veere', 'khatanga', 'deputatskiy', 'chokurdakh', 'esperance', 'buraydah', 'port blair', 'necochea', 'mar del plata', 'saint-joseph', 'kulhudhuffushi', 'karaul', 'thompson', 'hasaki', 'cape town', 'aljezur', 'faanui', 'puebloviejo', 'vila velha', 'cabo san lucas', 'kapaa', 'sao jose da coroa grande', 'cabildo', 'kirovskiy', 'bengkulu', 'sorong', 'barentsburg', 'bayburt', 'vila franca do campo', 'alenquer', 'dunmore east', 'bredasdorp', 'gamba', 'kavieng', 'holly springs', 'mys shmidta', 'ahipara', 'lufilufi', 'sabha', 'westport', 'richards bay', 'bambous virieux', 'waingapu', 'tual', 'kamenskoye', 'olafsvik', 'belushya guba', 'nishihara', 'goderich', 'vero beach', 'lagoa', 'sinnamary', 'tiksi', 'tiznit', 'portland', 'malaya serdoba', 'morro bay', 'saint-francois', 'cayenne', 'yar-sale', 'upernavik', 'ruatoria', 'port elizabeth', 'provideniya', 'ngunguru', 'luderitz', 'college', 'coquimbo', 'yarqa', 'sitka', 'vao', 'homer', 'salalah', 'arraial do cabo', 'teya', 'cap malheureux', 'kutum', 'zhuhai', 'qaanaaq', 'marawi', 'meadow lake', 'qaqortoq', 'saint-pierre', 'kodiak', 'nikolskoye', 'krasnoselkup', 'vardo', 'phangnga', 'beyneu', 'mokolo', 'castro', 'yeppoon', 'srednekolymsk', 'vaitupu', 'gao', 'saleaula', 'waipawa', 'dingle', 'gryazi', 'svetlaya', 'kaitangata', 'grenaa', 'hambantota', 'hobyo', 'dingzhou', 'leland', 'tikaitnagar', 'altar', 'kiama', 'batagay-alyta', 'tucuman', 'pevek', 'umm durman', 'kosmynino', 'westmont', 'sentyabrskiy', 'viedma', 'kenora', 'kanturk', 'shahrud', 'kars', 'taburao', 'quatre cocos', 'calatagan', 'touros', 'saint anthony', 'itoman', 'knyaze-volkonskoye', 'nuuk', 'shimanovsk', 'baiyin', 'new norfolk', 'salvador', 'havre-saint-pierre', 'jodhpur', 'yola', 'seoul', 'horw', 'lodja', 'bandarbeyla', 'merauke', 'zalantun', 'khunti', 'bull savanna', 'ludvika', 'bethel', 'hobart', 'dunedin', 'birao', 'illoqqortoormiut', 'abu kamal', 'zhanaozen', 'severo-kurilsk', 'laguna', 'kamenka', 'bundaberg', 'kununurra', 'oktyabrskiy', 'jati', 'aloleng', 'whitianga', 'benalla', 'gat', 'moerai', 'moose factory', 'eyl', 'port lincoln', 'sri aman', 'bargal', 'ogori', 'karamay', 'umzimvubu', 'san rafael', 'weiser', 'lanzhou', 'baie-comeau', 'tantoyuca', 'bilma', 'chuy', 'altamira', 'porto novo', 'dukat', 'shevchenkove', 'inverell', 'east london', 'ondorhaan', 'praya', 'tuatapere', 'nguiu', 'sechura', 'immokalee', 'the valley', 'tucurui', 'berlevag', 'madinat sittah uktubar', 'atambua', 'rockland', 'dauriya', 'bardoli', 'marseille', 'princeton', 'mentok', 'balkanabat', 'kahului', 'kirakira', 'jimo', 'olinda', 'puerto escondido', 'general pico', 'alice springs', 'harper', 'katsuura', 'verkhnevilyuysk', 'corralillo', 'great yarmouth', 'entre rios', 'arlit', 'port-gentil', 'bathsheba', 'la ronge', 'maumere', 'erenhot', 'santa maria', 'khandyga', 'saskylakh', 'atbasar', 'san quintin', 'sokoni', 'ust-kamchatsk', 'merrill', 'tucuma', 'tahta', 'lewistown', 'mahajanga', 'keti bandar', 'sao joao da barra', 'gizo', 'bendigo', 'carutapera', 'sibu', 'yanam', 'guerrero negro', 'faya', 'morondava', 'mkushi', 'naze', 'maxixe', 'jalu', 'ayer itam', 'stanger', 'beaverlodge', 'oksfjord', 'sept-iles', 'nichinan', 'samusu', 'tacuarembo', 'prescott valley', 'denpasar', 'montepuez', 'yavaros', 'chapais', 'xichang', 'lobito', 'menongue', 'qasigiannguit', 'kalmunai', 'biltine', 'tabou', 'asau', 'wulanhaote', 'edd', 'rincon', 'pointe michel', 'mersing', 'kaeng khlo', 'san policarpo', 'vendas novas', 'rosarito', 'christchurch', 'maceio', 'luang prabang', 'revelstoke', 'aloja', 'tura', 'la paz', 'kwinana', 'norman wells', 'kruisfontein', 'vzmorye', 'ugoofaaru', 'sobolevo', 'lavrentiya', 'penzance', 'grand river south east', 'longyearbyen', 'januaria', 'bhadrak', 'souillac', 'marcona', 'bichena', 'canguaretama', 'jiddah', 'yusva', 'tambura', 'huangchuan', 'clyde river', 'hlotse', 'phan thiet', 'svetlyy', 'tchaourou', 'vostok', 'shchelyayur', 'pandan', 'mecca', 'nelson bay', 'praia', 'narsaq', 'road town', 'iwanai', 'ayagoz', 'hualmay', 'kasongo-lunda', 'taixing', 'mahon', 'inirida', 'kibre mengist', 'broome', 'suda', 'tarudant', 'alakurtti', 'turukhansk', 'kachikau', 'praia da vitoria', 'burica', 'kongolo', 'morehead', 'alta floresta', 'kuah', 'vredendal', 'trincomalee', 'sabang', 'zaozerne', 'talnakh', 'valle hermoso', 'klyuchi', 'mantua', 'ambilobe', 'novouzensk', 'villamontes', 'cap-aux-meules', 'chongoyape', 'santa fe', 'yanan', 'borba', 'yomitan', 'monrovia', 'saldanha', 'iranshahr', 'lebedinyy', 'yulara', 'anloga', 'gazalkent', 'awbari', 'petropavlovsk-kamchatskiy', 'buchanan', 'kot diji', 'a', 'humaita', 'ostrovnoy', 'pacific grove', 'bintulu', 'beringovskiy', 'basay', 'shkotovo-22', 'shingu', 'neuquen', 'tautira', 'nebug', 'palauig', 'lubbock', 'anadyr', 'kavaratti', 'prince rupert', 'joshimath', 'solnechnyy', 'esso', 'kasongo', 'wanning', 'vallenar', 'derzhavinsk', 'attawapiskat', 'bucerias', 'nassau', 'tromso', 'north bend', 'tibacuy', 'bra', 'ust-maya', 'miajadas', 'birin', 'padang', 'banff', 'saint-leu', 'gigmoto', 'manado', 'chagda', 'bani walid', 'hami', 'aykhal', 'satitoa', 'sioux lookout', 'riohacha', 'coahuayana', 'impfondo', 'pontal do parana', 'phalodi', 'santiago', 'jambi', 'nizhnevartovsk', 'ola', 'yerbogachen', 'husavik', 'dolbeau', 'uhlove', 'slave lake', 'roebourne', 'letka', 'mrirt', 'halalo', 'inhambane', 'serenje', 'linjiang', 'roald', 'nantucket', 'sao domingos', 'kattivakkam', 'general cepeda', 'khuzhir', 'honiara', 'chifeng', 'mombris', 'mount isa', 'tabarqah', 'portree', 'tortoli', 'ko samui', 'cortez', 'panguna', 'irbit', 'beloha', 'disna', 'meulaboh', 'kitami', 'zemio', 'vanersborg', 'tazovskiy', 'calvinia', 'mumbwa', 'nhulunbuy', 'polis', 'sibolga', 'gainesville', 'czarnkow', 'mugur-aksy', 'roma', 'staraya poltavka', 'magistralnyy', 'prado', 'palana', 'klichka', 'alyangula', 'sao paulo de olivenca', 'hofn', 'tattayyangarpettai', 'grindavik', 'antsohihy', 'bonthe', 'grand gaube', 'sikar', 'cairns', 'kharitonovo', 'muroto', 'mutoko', 'acari', 'kangaatsiaq', 'tumannyy', 'mareeba', 'nsanje', 'trinidad', 'nanortalik', 'port hardy', 'jiblah', 'severnoye', 'ramla', 'coihaique', 'maua', 'orchard homes', 'gorno-chuyskiy', 'sao filipe', 'huilong', 'caravelas', 'rusetu', 'deder', 'ulaanbaatar', 'okhotsk', 'liverpool', 'tonantins', 'angoche', 'vanimo', 'poum', 'prabumulih', 'kalmeshwar', 'manta', 'repatriacion', 'cookeville', 'belaya gora', 'otukpo', 'fortuna', 'tilichiki', 'abu samrah', 'lumberton', 'bairiki', 'marabba', 'lolua', 'elk point', 'fresnillo', 'weligama', 'suntar', 'chicama', 'nemuro', 'burnie', 'lunel', 'marquette', 'rawson', 'griffith', 'port keats', 'alofi', 'sampit', 'peno', 'pakxan']\n"
     ]
    },
    {
     "data": {
      "text/plain": [
       "638"
      ]
     },
     "execution_count": 4,
     "metadata": {},
     "output_type": "execute_result"
    }
   ],
   "source": [
    "#first make lists to hold latitudes and longitudes. Also make a list to hold cities.\n",
    "lats_lngs = []\n",
    "cities = []\n",
    "\n",
    "#generate a random series of latitude and longitude coordinates. Use numpy random function.\n",
    "lats = np.random.uniform(lat_range[0], lat_range[1], size=1500)\n",
    "lngs = np.random.uniform(lng_range[0], lng_range[1], size=1500)\n",
    "\n",
    "#use the zip function to combine and place into the empty lats_lngs list\n",
    "lats_lngs = zip(lats, lngs)\n",
    "\n",
    "#use citipy to find the city closest to the random lat/lng combos.\n",
    "for lat_lng in lats_lngs:\n",
    "    city = citipy.nearest_city(lat_lng[0], lat_lng[1]).city_name\n",
    "    \n",
    "    #For each unique city, add it to the empty cities list\n",
    "    if city not in cities:\n",
    "        cities.append(city)\n",
    "\n",
    "#print the cities to confirm sample size is adequate\n",
    "print(cities)\n",
    "len(cities)\n"
   ]
  },
  {
   "cell_type": "markdown",
   "metadata": {},
   "source": [
    "### Perform API Calls\n",
    "* Perform a weather check on each city using a series of successive API calls.\n",
    "* Include a print log of each city as it'sbeing processed (with the city number and city name).\n"
   ]
  },
  {
   "cell_type": "code",
   "execution_count": null,
   "metadata": {
    "scrolled": true
   },
   "outputs": [],
   "source": []
  },
  {
   "cell_type": "markdown",
   "metadata": {},
   "source": [
    "### Convert Raw Data to DataFrame\n",
    "* Export the city data into a .csv.\n",
    "* Display the DataFrame"
   ]
  },
  {
   "cell_type": "code",
   "execution_count": null,
   "metadata": {},
   "outputs": [],
   "source": []
  },
  {
   "cell_type": "code",
   "execution_count": null,
   "metadata": {},
   "outputs": [],
   "source": []
  },
  {
   "cell_type": "markdown",
   "metadata": {},
   "source": [
    "## Inspect the data and remove the cities where the humidity > 100%.\n",
    "----\n",
    "Skip this step if there are no cities that have humidity > 100%. "
   ]
  },
  {
   "cell_type": "code",
   "execution_count": null,
   "metadata": {},
   "outputs": [],
   "source": []
  },
  {
   "cell_type": "code",
   "execution_count": null,
   "metadata": {},
   "outputs": [],
   "source": [
    "#  Get the indices of cities that have humidity over 100%.\n"
   ]
  },
  {
   "cell_type": "code",
   "execution_count": null,
   "metadata": {},
   "outputs": [],
   "source": [
    "# Make a new DataFrame equal to the city data to drop all humidity outliers by index.\n",
    "# Passing \"inplace=False\" will make a copy of the city_data DataFrame, which we call \"clean_city_data\".\n"
   ]
  },
  {
   "cell_type": "code",
   "execution_count": null,
   "metadata": {},
   "outputs": [],
   "source": [
    "\n"
   ]
  },
  {
   "cell_type": "markdown",
   "metadata": {},
   "source": [
    "## Plotting the Data\n",
    "* Use proper labeling of the plots using plot titles (including date of analysis) and axes labels.\n",
    "* Save the plotted figures as .pngs."
   ]
  },
  {
   "cell_type": "markdown",
   "metadata": {},
   "source": [
    "## Latitude vs. Temperature Plot"
   ]
  },
  {
   "cell_type": "code",
   "execution_count": null,
   "metadata": {
    "scrolled": true
   },
   "outputs": [],
   "source": []
  },
  {
   "cell_type": "markdown",
   "metadata": {},
   "source": [
    "## Latitude vs. Humidity Plot"
   ]
  },
  {
   "cell_type": "code",
   "execution_count": null,
   "metadata": {},
   "outputs": [],
   "source": []
  },
  {
   "cell_type": "markdown",
   "metadata": {},
   "source": [
    "## Latitude vs. Cloudiness Plot"
   ]
  },
  {
   "cell_type": "code",
   "execution_count": null,
   "metadata": {},
   "outputs": [],
   "source": []
  },
  {
   "cell_type": "markdown",
   "metadata": {},
   "source": [
    "## Latitude vs. Wind Speed Plot"
   ]
  },
  {
   "cell_type": "code",
   "execution_count": null,
   "metadata": {},
   "outputs": [],
   "source": []
  },
  {
   "cell_type": "markdown",
   "metadata": {},
   "source": [
    "## Linear Regression"
   ]
  },
  {
   "cell_type": "code",
   "execution_count": null,
   "metadata": {},
   "outputs": [],
   "source": []
  },
  {
   "cell_type": "markdown",
   "metadata": {},
   "source": [
    "####  Northern Hemisphere - Max Temp vs. Latitude Linear Regression"
   ]
  },
  {
   "cell_type": "code",
   "execution_count": null,
   "metadata": {},
   "outputs": [],
   "source": []
  },
  {
   "cell_type": "markdown",
   "metadata": {},
   "source": [
    "####  Southern Hemisphere - Max Temp vs. Latitude Linear Regression"
   ]
  },
  {
   "cell_type": "code",
   "execution_count": null,
   "metadata": {},
   "outputs": [],
   "source": []
  },
  {
   "cell_type": "markdown",
   "metadata": {},
   "source": [
    "####  Northern Hemisphere - Humidity (%) vs. Latitude Linear Regression"
   ]
  },
  {
   "cell_type": "code",
   "execution_count": null,
   "metadata": {},
   "outputs": [],
   "source": []
  },
  {
   "cell_type": "markdown",
   "metadata": {},
   "source": [
    "####  Southern Hemisphere - Humidity (%) vs. Latitude Linear Regression"
   ]
  },
  {
   "cell_type": "code",
   "execution_count": null,
   "metadata": {},
   "outputs": [],
   "source": []
  },
  {
   "cell_type": "markdown",
   "metadata": {},
   "source": [
    "####  Northern Hemisphere - Cloudiness (%) vs. Latitude Linear Regression"
   ]
  },
  {
   "cell_type": "code",
   "execution_count": null,
   "metadata": {},
   "outputs": [],
   "source": []
  },
  {
   "cell_type": "markdown",
   "metadata": {},
   "source": [
    "####  Southern Hemisphere - Cloudiness (%) vs. Latitude Linear Regression"
   ]
  },
  {
   "cell_type": "code",
   "execution_count": null,
   "metadata": {},
   "outputs": [],
   "source": []
  },
  {
   "cell_type": "markdown",
   "metadata": {},
   "source": [
    "####  Northern Hemisphere - Wind Speed (mph) vs. Latitude Linear Regression"
   ]
  },
  {
   "cell_type": "code",
   "execution_count": null,
   "metadata": {},
   "outputs": [],
   "source": []
  },
  {
   "cell_type": "markdown",
   "metadata": {},
   "source": [
    "####  Southern Hemisphere - Wind Speed (mph) vs. Latitude Linear Regression"
   ]
  },
  {
   "cell_type": "code",
   "execution_count": null,
   "metadata": {},
   "outputs": [],
   "source": []
  },
  {
   "cell_type": "code",
   "execution_count": null,
   "metadata": {},
   "outputs": [],
   "source": []
  }
 ],
 "metadata": {
  "anaconda-cloud": {},
  "kernel_info": {
   "name": "python3"
  },
  "kernelspec": {
   "display_name": "Python [conda env:root] *",
   "language": "python",
   "name": "conda-root-py"
  },
  "language_info": {
   "codemirror_mode": {
    "name": "ipython",
    "version": 3
   },
   "file_extension": ".py",
   "mimetype": "text/x-python",
   "name": "python",
   "nbconvert_exporter": "python",
   "pygments_lexer": "ipython3",
   "version": "3.8.5"
  },
  "latex_envs": {
   "LaTeX_envs_menu_present": true,
   "autoclose": false,
   "autocomplete": true,
   "bibliofile": "biblio.bib",
   "cite_by": "apalike",
   "current_citInitial": 1,
   "eqLabelWithNumbers": true,
   "eqNumInitial": 1,
   "hotkeys": {
    "equation": "Ctrl-E",
    "itemize": "Ctrl-I"
   },
   "labels_anchors": false,
   "latex_user_defs": false,
   "report_style_numbering": false,
   "user_envs_cfg": false
  },
  "nteract": {
   "version": "0.12.3"
  }
 },
 "nbformat": 4,
 "nbformat_minor": 2
}
